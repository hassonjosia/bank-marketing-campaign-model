{
 "cells": [
  {
   "cell_type": "markdown",
   "id": "49b700bd",
   "metadata": {},
   "source": [
    "# CLASSIFICATION PREDICTION MODEL: BANK MARKETING CAMPAIGN\n",
    "### Hasson Josia Siregar"
   ]
  },
  {
   "cell_type": "markdown",
   "id": "93490dcb",
   "metadata": {},
   "source": [
    "# 1. Bussiness Problem Understanding"
   ]
  },
  {
   "cell_type": "markdown",
   "id": "212de090",
   "metadata": {},
   "source": [
    "**Context**\n",
    "\n",
    "Jenis produk keuangan yang digunakan oleh masyarakat semakin beragam. Salah satu produk keuangan yang dikenal luas oleh masyarakat adalah deposito berjangka. Mekanisme deposito berjangka adalah nasabah menyetorkan sejumlah uang ke bank atau lembaga keuangan, dan uang tersebut hanya dapat ditarik setelah jangka waktu tertentu. Sebagai kompensasi, nasabah akan diberikan bunga tetap sesuai dengan nominal uang yang disetorkan.\n",
    "\n",
    "Namun demikian, sebagai entitas bisnis dengan produk keuangan dan pelanggan masing-masing, bank tetap harus bersaing agar tidak kehilangan pelanggan. Salah satu cara untuk mendapatkan nasabah baru adalah dengan mengadakan kampanye pemasaran\n",
    "\n",
    "**Problem Statement**\n",
    "\n",
    "Kami dari Divisi Analitik Pemasaran di Bank XYZ berhadapan langsung dengan tantangan optimasi anggaran kampanye untuk produk deposito berjangka (“deposit”). Selama beberapa kuartal terakhir, meski frekuensi panggilan telemarketing dan email blast meningkat drastis, persentase klien yang benar-benar membuka deposit masih stagnan. Tingginya biaya kontak per prospek dan rendahnya tingkat konversi menciptakan kekhawatiran di manajemen bahwa wewenang targeting kami terlalu “menebar jaring” tanpa prioritas calon pelanggan berkualitas.\n",
    "\n",
    "Oleh karena itu, tim kami mendapat mandat untuk membangun sebuah classification prediction model yang secara otomatis memprediksi nilai kolom deposit (“yes” vs “no”) berdasarkan profil demografi, histori interaksi kampanye, dan variabel ekonomi makro. Dengan model ini, kita ingin:\n",
    "\n",
    "**Goals**\n",
    "\n",
    "1. Fokus pada Calon Potensial\n",
    "Memprioritaskan 20–30% prospek dengan skor probabilitas “yes” tertinggi, sehingga tim telemarketing dan digital outreach hanya menarget mereka yang benar-benar berpeluang membuka deposito.\n",
    "\n",
    "2. Efisiensi Biaya Akuisisi\n",
    "Mengurangi biaya rata-rata per pembukaan deposit hingga 15–20% dengan menghindari kontak masif ke prospek berpeluang rendah.\n",
    "\n",
    "3. Peningkatan ROI Kampanye\n",
    "Kombinasi precision tinggi pada segmen “yes” dan pengurangan false positive akan mengerek ROI keseluruhan dari kampanye deposit.\n",
    "\n",
    "Dari sisi teknis, pendekatan kami akan meliputi:\n",
    "\n",
    "- Problem framing: Klasifikasi biner untuk kolom deposit.\n",
    "\n",
    "- Analytic Approach: Uji algoritma Logistic Regression, Random Forest, dan XGBoost; hyperparameter tuning via cross-validation.\n",
    "\n",
    "- Feature Engineering: Usia, pekerjaan, durasi panggilan terakhir, jumlah kontak sebelumnya, serta indikator ekonomi (misalnya tingkat suku bunga).\n",
    "\n",
    "- Evaluation Metric: F₂-score (β=2) untuk memprioritaskan recall—memastikan kita minimalkan false negatives (melewatkan calon yang sebenarnya akan membuka deposit)."
   ]
  },
  {
   "cell_type": "markdown",
   "id": "888e3457",
   "metadata": {},
   "source": [
    "# 2. Data Understanding"
   ]
  },
  {
   "cell_type": "code",
   "execution_count": 209,
   "id": "985a71c7",
   "metadata": {},
   "outputs": [],
   "source": [
    "# Library\n",
    "\n",
    "import pandas as pd\n",
    "import numpy as np\n",
    "\n",
    "# Visualization\n",
    "import matplotlib.pyplot as plt\n",
    "import seaborn as sns\n",
    "import missingno\n",
    "from IPython.display import display\n",
    "from scipy import stats\n",
    "from scipy.stats import shapiro\n",
    "# Feature Engineering\n",
    "from sklearn.pipeline import Pipeline\n",
    "from sklearn.impute import SimpleImputer\n",
    "from sklearn.preprocessing import OneHotEncoder, LabelEncoder, OrdinalEncoder, StandardScaler, FunctionTransformer\n",
    "from sklearn.compose import ColumnTransformer\n",
    "import category_encoders as ce\n",
    "\n",
    "# Model Selection\n",
    "from sklearn.linear_model import LogisticRegression\n",
    "from sklearn.tree import DecisionTreeClassifier\n",
    "from sklearn.model_selection import GridSearchCV,StratifiedKFold,train_test_split, cross_val_score\n",
    "from sklearn.metrics import classification_report, confusion_matrix, make_scorer, fbeta_score\n",
    "from sklearn.neighbors import KNeighborsClassifier\n",
    "from sklearn.ensemble import RandomForestClassifier\n",
    "from xgboost import XGBClassifier\n",
    "import lightgbm as lgb\n",
    "from sklearn.metrics import f1_score, accuracy_score, recall_score, precision_score\n",
    "from sklearn.metrics import roc_curve, roc_auc_score\n",
    "\n",
    "# Imbalance Dataset\n",
    "from imblearn.pipeline import Pipeline\n",
    "from imblearn.over_sampling import RandomOverSampler\n",
    "\n",
    "# Ignore Warning\n",
    "import sys\n",
    "import warnings\n",
    "if not sys.warnoptions:\n",
    "    warnings.simplefilter(\"ignore\")\n",
    "\n",
    "# Set max columns\n",
    "pd.set_option('display.max_columns', None)"
   ]
  },
  {
   "cell_type": "code",
   "execution_count": 210,
   "id": "bab57f7d",
   "metadata": {},
   "outputs": [
    {
     "data": {
      "text/html": [
       "<div>\n",
       "<style scoped>\n",
       "    .dataframe tbody tr th:only-of-type {\n",
       "        vertical-align: middle;\n",
       "    }\n",
       "\n",
       "    .dataframe tbody tr th {\n",
       "        vertical-align: top;\n",
       "    }\n",
       "\n",
       "    .dataframe thead th {\n",
       "        text-align: right;\n",
       "    }\n",
       "</style>\n",
       "<table border=\"1\" class=\"dataframe\">\n",
       "  <thead>\n",
       "    <tr style=\"text-align: right;\">\n",
       "      <th></th>\n",
       "      <th>age</th>\n",
       "      <th>job</th>\n",
       "      <th>balance</th>\n",
       "      <th>housing</th>\n",
       "      <th>loan</th>\n",
       "      <th>contact</th>\n",
       "      <th>month</th>\n",
       "      <th>campaign</th>\n",
       "      <th>pdays</th>\n",
       "      <th>poutcome</th>\n",
       "      <th>deposit</th>\n",
       "    </tr>\n",
       "  </thead>\n",
       "  <tbody>\n",
       "    <tr>\n",
       "      <th>3286</th>\n",
       "      <td>37</td>\n",
       "      <td>technician</td>\n",
       "      <td>980</td>\n",
       "      <td>no</td>\n",
       "      <td>no</td>\n",
       "      <td>cellular</td>\n",
       "      <td>aug</td>\n",
       "      <td>5</td>\n",
       "      <td>-1</td>\n",
       "      <td>unknown</td>\n",
       "      <td>yes</td>\n",
       "    </tr>\n",
       "    <tr>\n",
       "      <th>1946</th>\n",
       "      <td>32</td>\n",
       "      <td>admin.</td>\n",
       "      <td>291</td>\n",
       "      <td>no</td>\n",
       "      <td>no</td>\n",
       "      <td>telephone</td>\n",
       "      <td>jan</td>\n",
       "      <td>6</td>\n",
       "      <td>275</td>\n",
       "      <td>other</td>\n",
       "      <td>no</td>\n",
       "    </tr>\n",
       "    <tr>\n",
       "      <th>4029</th>\n",
       "      <td>40</td>\n",
       "      <td>services</td>\n",
       "      <td>113</td>\n",
       "      <td>yes</td>\n",
       "      <td>no</td>\n",
       "      <td>unknown</td>\n",
       "      <td>jun</td>\n",
       "      <td>1</td>\n",
       "      <td>-1</td>\n",
       "      <td>unknown</td>\n",
       "      <td>no</td>\n",
       "    </tr>\n",
       "    <tr>\n",
       "      <th>545</th>\n",
       "      <td>68</td>\n",
       "      <td>retired</td>\n",
       "      <td>445</td>\n",
       "      <td>no</td>\n",
       "      <td>no</td>\n",
       "      <td>cellular</td>\n",
       "      <td>feb</td>\n",
       "      <td>1</td>\n",
       "      <td>-1</td>\n",
       "      <td>unknown</td>\n",
       "      <td>yes</td>\n",
       "    </tr>\n",
       "    <tr>\n",
       "      <th>4027</th>\n",
       "      <td>33</td>\n",
       "      <td>admin.</td>\n",
       "      <td>7</td>\n",
       "      <td>yes</td>\n",
       "      <td>no</td>\n",
       "      <td>cellular</td>\n",
       "      <td>apr</td>\n",
       "      <td>1</td>\n",
       "      <td>148</td>\n",
       "      <td>failure</td>\n",
       "      <td>no</td>\n",
       "    </tr>\n",
       "  </tbody>\n",
       "</table>\n",
       "</div>"
      ],
      "text/plain": [
       "      age         job  balance housing loan    contact month  campaign  pdays  \\\n",
       "3286   37  technician      980      no   no   cellular   aug         5     -1   \n",
       "1946   32      admin.      291      no   no  telephone   jan         6    275   \n",
       "4029   40    services      113     yes   no    unknown   jun         1     -1   \n",
       "545    68     retired      445      no   no   cellular   feb         1     -1   \n",
       "4027   33      admin.        7     yes   no   cellular   apr         1    148   \n",
       "\n",
       "     poutcome deposit  \n",
       "3286  unknown     yes  \n",
       "1946    other      no  \n",
       "4029  unknown      no  \n",
       "545   unknown     yes  \n",
       "4027  failure      no  "
      ]
     },
     "execution_count": 210,
     "metadata": {},
     "output_type": "execute_result"
    }
   ],
   "source": [
    "#Load Dataset\n",
    "df = pd.read_csv(\"data_bank_marketing_campaign.csv\")\n",
    "df.sample(5)"
   ]
  },
  {
   "cell_type": "code",
   "execution_count": 211,
   "id": "d9a102ac",
   "metadata": {},
   "outputs": [
    {
     "name": "stdout",
     "output_type": "stream",
     "text": [
      "<class 'pandas.core.frame.DataFrame'>\n",
      "RangeIndex: 7813 entries, 0 to 7812\n",
      "Data columns (total 11 columns):\n",
      " #   Column    Non-Null Count  Dtype \n",
      "---  ------    --------------  ----- \n",
      " 0   age       7813 non-null   int64 \n",
      " 1   job       7813 non-null   object\n",
      " 2   balance   7813 non-null   int64 \n",
      " 3   housing   7813 non-null   object\n",
      " 4   loan      7813 non-null   object\n",
      " 5   contact   7813 non-null   object\n",
      " 6   month     7813 non-null   object\n",
      " 7   campaign  7813 non-null   int64 \n",
      " 8   pdays     7813 non-null   int64 \n",
      " 9   poutcome  7813 non-null   object\n",
      " 10  deposit   7813 non-null   object\n",
      "dtypes: int64(4), object(7)\n",
      "memory usage: 671.6+ KB\n"
     ]
    }
   ],
   "source": [
    "df.info()"
   ]
  },
  {
   "cell_type": "code",
   "execution_count": 212,
   "id": "a9909382",
   "metadata": {},
   "outputs": [
    {
     "name": "stdout",
     "output_type": "stream",
     "text": [
      "\n",
      "Statistik deskriptif fitur numerik:\n",
      "               age       balance     campaign        pdays\n",
      "count  7813.000000   7813.000000  7813.000000  7813.000000\n",
      "mean     41.257264   1512.448611     2.519775    51.408550\n",
      "std      11.919710   3089.291831     2.727001   108.072739\n",
      "min      18.000000  -6847.000000     1.000000    -1.000000\n",
      "25%      32.000000    127.000000     1.000000    -1.000000\n",
      "50%      39.000000    549.000000     2.000000    -1.000000\n",
      "75%      49.000000   1684.000000     3.000000    40.000000\n",
      "max      95.000000  66653.000000    63.000000   854.000000\n"
     ]
    }
   ],
   "source": [
    "# Statistik deskriptif untuk fitur numerik\n",
    "print(\"\\nStatistik deskriptif fitur numerik:\")\n",
    "print(df.describe())"
   ]
  },
  {
   "cell_type": "code",
   "execution_count": 213,
   "id": "2bdeca3a",
   "metadata": {},
   "outputs": [
    {
     "name": "stdout",
     "output_type": "stream",
     "text": [
      "\n",
      "Statistik fitur kategorikal:\n",
      "               job housing  loan   contact month poutcome deposit\n",
      "count         7813    7813  7813      7813  7813     7813    7813\n",
      "unique          12       2     2         3    12        4       2\n",
      "top     management      no    no  cellular   may  unknown      no\n",
      "freq          1792    4140  6789      5628  1976     5819    4081\n"
     ]
    }
   ],
   "source": [
    "# Statistik deskriptif fitur kategorikal\n",
    "print(\"\\nStatistik fitur kategorikal:\")\n",
    "print(df.describe(include=['object']))"
   ]
  },
  {
   "cell_type": "markdown",
   "id": "b325486a",
   "metadata": {},
   "source": [
    "\n",
    "Features: \n",
    "| Kolom      | Tipe        | Keterangan                                           |\n",
    "| ---------- | ----------- | ---------------------------------------------------- |\n",
    "| `age`      | Numerik     | Usia klien                                           |\n",
    "| `job`      | Kategorikal | Pekerjaan klien (admin, technician, dll.)            |\n",
    "| `balance`  | Numerik     | Saldo rekening                          |\n",
    "| `housing`  | Kategorikal | Memiliki kredit rumah? (yes/no)                      |\n",
    "| `loan`     | Kategorikal | Memiliki pinjaman pribadi? (yes/no)                  |\n",
    "| `contact`  | Kategorikal | Jenis kontak dengan klien (telephone, cellular)      |\n",
    "| `month`    | Kategorikal | Bulan kampanye dilakukan (jan, feb, …, dec)          |\n",
    "| `campaign` | Numerik     | Jumlah kontak dalam kampanye ini                     |\n",
    "| `pdays`    | Numerik     | Hari sejak terakhir dihubungi (-1 jika belum pernah) |\n",
    "| `poutcome` | Kategorikal | Hasil kampanye sebelumnya (failure, success, dll.)   |\n",
    "| `deposit`  | Kategorikal | **Target**: membuka deposito berjangka (yes/no)      |\n"
   ]
  },
  {
   "cell_type": "code",
   "execution_count": 214,
   "id": "5a3c0337",
   "metadata": {},
   "outputs": [
    {
     "name": "stdout",
     "output_type": "stream",
     "text": [
      "\n",
      "Nilai unik tiap fitur kategorikal:\n",
      "job: ['admin.' 'self-employed' 'services' 'housemaid' 'technician' 'management'\n",
      " 'student' 'blue-collar' 'entrepreneur' 'retired' 'unemployed' 'unknown']\n",
      "housing: ['no' 'yes']\n",
      "loan: ['no' 'yes']\n",
      "contact: ['cellular' 'telephone' 'unknown']\n",
      "month: ['jun' 'apr' 'may' 'nov' 'jan' 'sep' 'feb' 'mar' 'aug' 'jul' 'oct' 'dec']\n",
      "poutcome: ['unknown' 'other' 'failure' 'success']\n",
      "deposit: ['yes' 'no']\n"
     ]
    }
   ],
   "source": [
    "# Cek nilai unik tiap fitur kategorikal\n",
    "print(\"\\nNilai unik tiap fitur kategorikal:\")\n",
    "for col in df.select_dtypes(include=['object']).columns:\n",
    "    print(f\"{col}: {df[col].unique()}\")"
   ]
  },
  {
   "cell_type": "code",
   "execution_count": 215,
   "id": "a3817b03",
   "metadata": {},
   "outputs": [
    {
     "name": "stdout",
     "output_type": "stream",
     "text": [
      "\n",
      "Jumlah missing values per kolom:\n",
      "age         0\n",
      "job         0\n",
      "balance     0\n",
      "housing     0\n",
      "loan        0\n",
      "contact     0\n",
      "month       0\n",
      "campaign    0\n",
      "pdays       0\n",
      "poutcome    0\n",
      "deposit     0\n",
      "dtype: int64\n"
     ]
    }
   ],
   "source": [
    "# Cek missing values\n",
    "print(\"\\nJumlah missing values per kolom:\")\n",
    "print(df.isnull().sum())"
   ]
  },
  {
   "cell_type": "code",
   "execution_count": 216,
   "id": "51a398c0",
   "metadata": {},
   "outputs": [
    {
     "name": "stdout",
     "output_type": "stream",
     "text": [
      "\n",
      "Jumlah nilai 'unknown' pada fitur kategorikal:\n",
      "job: 54\n",
      "housing: 0\n",
      "loan: 0\n",
      "contact: 1639\n",
      "month: 0\n",
      "poutcome: 5819\n"
     ]
    }
   ],
   "source": [
    "# Cek nilai 'unknown' pada fitur kategorikal (sebagai missing value)\n",
    "print(\"\\nJumlah nilai 'unknown' pada fitur kategorikal:\")\n",
    "for col in df.select_dtypes(include=['object']).columns:\n",
    "    if col != 'deposit':  # deposit adalah target\n",
    "        count_unknown = (df[col] == 'unknown').sum()\n",
    "        print(f\"{col}: {count_unknown}\")"
   ]
  },
  {
   "cell_type": "code",
   "execution_count": 217,
   "id": "e6689b53",
   "metadata": {},
   "outputs": [
    {
     "name": "stdout",
     "output_type": "stream",
     "text": [
      "\n",
      "Distribusi kelas target 'deposit':\n",
      "deposit\n",
      "no     4081\n",
      "yes    3732\n",
      "Name: count, dtype: int64\n"
     ]
    },
    {
     "data": {
      "image/png": "[encoded data removed]",
      "text/plain": [
       "<Figure size 640x480 with 1 Axes>"
      ]
     },
     "metadata": {},
     "output_type": "display_data"
    }
   ],
   "source": [
    "# Distribusi kelas target 'deposit'\n",
    "print(\"\\nDistribusi kelas target 'deposit':\")\n",
    "print(df['deposit'].value_counts())\n",
    "sns.countplot(x=df['deposit'])\n",
    "plt.title('Distribusi Kelas Target (deposit)')\n",
    "plt.show()"
   ]
  },
  {
   "cell_type": "code",
   "execution_count": 218,
   "id": "0fc99959",
   "metadata": {},
   "outputs": [
    {
     "data": {
      "image/png": "[encoded data removed]",
      "text/plain": [
       "<Figure size 800x400 with 1 Axes>"
      ]
     },
     "metadata": {},
     "output_type": "display_data"
    }
   ],
   "source": [
    "# Distribusi umur (age)\n",
    "plt.figure(figsize=(8,4))\n",
    "sns.histplot(df['age'], bins=30, kde=True)\n",
    "plt.title('Distribusi Usia Nasabah')\n",
    "plt.show()"
   ]
  },
  {
   "cell_type": "code",
   "execution_count": 219,
   "id": "54b7ee58",
   "metadata": {},
   "outputs": [
    {
     "data": {
      "image/png": "[encoded data removed]",
      "text/plain": [
       "<Figure size 640x480 with 1 Axes>"
      ]
     },
     "metadata": {},
     "output_type": "display_data"
    }
   ],
   "source": [
    "# Boxplot usia vs deposit\n",
    "sns.boxplot(data=df, x='deposit', y='age')\n",
    "plt.show()"
   ]
  },
  {
   "cell_type": "code",
   "execution_count": 220,
   "id": "34c53b2f",
   "metadata": {},
   "outputs": [
    {
     "data": {
      "image/png": "[encoded data removed]",
      "text/plain": [
       "<Figure size 800x400 with 1 Axes>"
      ]
     },
     "metadata": {},
     "output_type": "display_data"
    }
   ],
   "source": [
    "# Distribusi saldo rekening (balance)\n",
    "plt.figure(figsize=(8,4))\n",
    "sns.histplot(df['balance'], bins=50, kde=True)\n",
    "plt.title('Distribusi Saldo Rekening')\n",
    "plt.show()"
   ]
  },
  {
   "cell_type": "code",
   "execution_count": 221,
   "id": "d7ad4a84",
   "metadata": {},
   "outputs": [
    {
     "data": {
      "image/png": "[encoded data removed]",
      "text/plain": [
       "<Figure size 800x400 with 1 Axes>"
      ]
     },
     "metadata": {},
     "output_type": "display_data"
    }
   ],
   "source": [
    "# Boxplot saldo rekening untuk cek outlier\n",
    "plt.figure(figsize=(8,4))\n",
    "sns.boxplot(x=df['balance'])\n",
    "plt.title('Boxplot Saldo Rekening')\n",
    "plt.show()"
   ]
  },
  {
   "cell_type": "code",
   "execution_count": 222,
   "id": "7c5f7c3e",
   "metadata": {},
   "outputs": [
    {
     "name": "stdout",
     "output_type": "stream",
     "text": [
      "\n",
      "Korelasi antar fitur numerik:\n",
      "               age   balance  campaign     pdays\n",
      "age       1.000000  0.099763  0.001411  0.008268\n",
      "balance   0.099763  1.000000 -0.010505  0.011394\n",
      "campaign  0.001411 -0.010505  1.000000 -0.104761\n",
      "pdays     0.008268  0.011394 -0.104761  1.000000\n"
     ]
    },
    {
     "data": {
      "image/png": "[encoded data removed]",
      "text/plain": [
       "<Figure size 1000x800 with 2 Axes>"
      ]
     },
     "metadata": {},
     "output_type": "display_data"
    }
   ],
   "source": [
    "# Korelasi antar fitur numerik\n",
    "numerical_cols = df.select_dtypes(include=[np.number]).columns.tolist()\n",
    "print(\"\\nKorelasi antar fitur numerik:\")\n",
    "print(df[numerical_cols].corr())\n",
    "\n",
    "plt.figure(figsize=(10,8))\n",
    "sns.heatmap(df[numerical_cols].corr(), annot=True, cmap='coolwarm')\n",
    "plt.title('Heatmap Korelasi Fitur Numerik')\n",
    "plt.show()"
   ]
  },
  {
   "cell_type": "code",
   "execution_count": 223,
   "id": "53aa10e3",
   "metadata": {},
   "outputs": [
    {
     "name": "stdout",
     "output_type": "stream",
     "text": [
      "\n",
      "Jumlah data duplikat:\n",
      "8\n"
     ]
    }
   ],
   "source": [
    "#  Cek duplikat data\n",
    "print(\"\\nJumlah data duplikat:\")\n",
    "print(df.duplicated().sum())"
   ]
  },
  {
   "cell_type": "code",
   "execution_count": 224,
   "id": "39a9266f",
   "metadata": {},
   "outputs": [
    {
     "name": "stdout",
     "output_type": "stream",
     "text": [
      "\n",
      "Normality test Shapiro-Wilk:\n",
      "age - stat: 0.9469, p-value: 0.0000\n",
      "age tidak terdistribusi normal\n",
      "balance - stat: 0.4911, p-value: 0.0000\n",
      "balance tidak terdistribusi normal\n"
     ]
    }
   ],
   "source": [
    "# Normality test untuk fitur numerik (age dan balance) dengan Shapiro-Wilk\n",
    "print(\"\\nNormality test Shapiro-Wilk:\")\n",
    "for col in ['age', 'balance']:\n",
    "    stat, p = stats.shapiro(df[col].dropna())\n",
    "    print(f\"{col} - stat: {stat:.4f}, p-value: {p:.4f}\")\n",
    "    if p > 0.05:\n",
    "        print(f\"{col} terdistribusi normal\")\n",
    "    else:\n",
    "        print(f\"{col} tidak terdistribusi normal\")"
   ]
  },
  {
   "cell_type": "markdown",
   "id": "84403b15",
   "metadata": {},
   "source": [
    "Insight Data Understanding:\n",
    "- Usia (age): Rentang 18–95 tahun, rata-rata sekitar 40.\n",
    "\n",
    "- Saldo (balance): Mayoritas nilai di bawah 1.000, terdapat outlier di sisi tinggi dan beberapa nilai negatif.\n",
    "\n",
    "- Jumlah kontak (campaign): Distribusi skewed ke kanan—banyak yang hanya dihubungi 1–2 kali.\n",
    "\n",
    "- Hasil kampanye sebelumnya (poutcome): Banyak “nonexistent” (belum pernah dihubungi).\n",
    "\n",
    "- Fitur kategorikal (job, housing, loan, contact, month, poutcome) perlu encoding (one-hot atau target encoding)."
   ]
  },
  {
   "cell_type": "markdown",
   "id": "f05e02e5",
   "metadata": {},
   "source": [
    "# 3. Data Preparation"
   ]
  },
  {
   "cell_type": "markdown",
   "id": "179ab52e",
   "metadata": {},
   "source": [
    "## handling missing value"
   ]
  },
  {
   "cell_type": "code",
   "execution_count": 225,
   "id": "11d399e1",
   "metadata": {},
   "outputs": [
    {
     "data": {
      "text/plain": [
       "age         0\n",
       "job         0\n",
       "balance     0\n",
       "housing     0\n",
       "loan        0\n",
       "contact     0\n",
       "month       0\n",
       "campaign    0\n",
       "pdays       0\n",
       "poutcome    0\n",
       "deposit     0\n",
       "dtype: int64"
      ]
     },
     "execution_count": 225,
     "metadata": {},
     "output_type": "execute_result"
    }
   ],
   "source": [
    "df.isna().sum()"
   ]
  },
  {
   "cell_type": "markdown",
   "id": "b1cb4952",
   "metadata": {},
   "source": [
    "Tidak ada missing values pada data set"
   ]
  },
  {
   "cell_type": "markdown",
   "id": "2f2b7f42",
   "metadata": {},
   "source": [
    "## handling data duplicates"
   ]
  },
  {
   "cell_type": "code",
   "execution_count": 226,
   "id": "db8f1101",
   "metadata": {},
   "outputs": [
    {
     "data": {
      "text/plain": [
       "8"
      ]
     },
     "execution_count": 226,
     "metadata": {},
     "output_type": "execute_result"
    }
   ],
   "source": [
    "df.duplicated().sum()"
   ]
  },
  {
   "cell_type": "markdown",
   "id": "166ad5be",
   "metadata": {},
   "source": [
    "Terdapat data duplicate. Maka saya akan menghapus data duplicate tersebut"
   ]
  },
  {
   "cell_type": "code",
   "execution_count": 227,
   "id": "c18b3169",
   "metadata": {},
   "outputs": [],
   "source": [
    "# Menghapus data duplikat pada data\n",
    "df.drop_duplicates(inplace=True)"
   ]
  },
  {
   "cell_type": "markdown",
   "id": "6c4eae55",
   "metadata": {},
   "source": [
    "## handling outlier"
   ]
  },
  {
   "cell_type": "code",
   "execution_count": 228,
   "id": "c397d4d4",
   "metadata": {},
   "outputs": [
    {
     "data": {
      "text/html": [
       "<div>\n",
       "<style scoped>\n",
       "    .dataframe tbody tr th:only-of-type {\n",
       "        vertical-align: middle;\n",
       "    }\n",
       "\n",
       "    .dataframe tbody tr th {\n",
       "        vertical-align: top;\n",
       "    }\n",
       "\n",
       "    .dataframe thead th {\n",
       "        text-align: right;\n",
       "    }\n",
       "</style>\n",
       "<table border=\"1\" class=\"dataframe\">\n",
       "  <thead>\n",
       "    <tr style=\"text-align: right;\">\n",
       "      <th></th>\n",
       "      <th>age</th>\n",
       "      <th>balance</th>\n",
       "      <th>campaign</th>\n",
       "      <th>pdays</th>\n",
       "    </tr>\n",
       "  </thead>\n",
       "  <tbody>\n",
       "    <tr>\n",
       "      <th>count</th>\n",
       "      <td>7805.000000</td>\n",
       "      <td>7805.000000</td>\n",
       "      <td>7805.000000</td>\n",
       "      <td>7805.000000</td>\n",
       "    </tr>\n",
       "    <tr>\n",
       "      <th>mean</th>\n",
       "      <td>41.257783</td>\n",
       "      <td>1513.968225</td>\n",
       "      <td>2.520564</td>\n",
       "      <td>51.462268</td>\n",
       "    </tr>\n",
       "    <tr>\n",
       "      <th>std</th>\n",
       "      <td>11.922833</td>\n",
       "      <td>3090.508938</td>\n",
       "      <td>2.728204</td>\n",
       "      <td>108.115084</td>\n",
       "    </tr>\n",
       "    <tr>\n",
       "      <th>min</th>\n",
       "      <td>18.000000</td>\n",
       "      <td>-6847.000000</td>\n",
       "      <td>1.000000</td>\n",
       "      <td>-1.000000</td>\n",
       "    </tr>\n",
       "    <tr>\n",
       "      <th>25%</th>\n",
       "      <td>32.000000</td>\n",
       "      <td>128.000000</td>\n",
       "      <td>1.000000</td>\n",
       "      <td>-1.000000</td>\n",
       "    </tr>\n",
       "    <tr>\n",
       "      <th>50%</th>\n",
       "      <td>39.000000</td>\n",
       "      <td>550.000000</td>\n",
       "      <td>2.000000</td>\n",
       "      <td>-1.000000</td>\n",
       "    </tr>\n",
       "    <tr>\n",
       "      <th>75%</th>\n",
       "      <td>49.000000</td>\n",
       "      <td>1685.000000</td>\n",
       "      <td>3.000000</td>\n",
       "      <td>41.000000</td>\n",
       "    </tr>\n",
       "    <tr>\n",
       "      <th>max</th>\n",
       "      <td>95.000000</td>\n",
       "      <td>66653.000000</td>\n",
       "      <td>63.000000</td>\n",
       "      <td>854.000000</td>\n",
       "    </tr>\n",
       "  </tbody>\n",
       "</table>\n",
       "</div>"
      ],
      "text/plain": [
       "               age       balance     campaign        pdays\n",
       "count  7805.000000   7805.000000  7805.000000  7805.000000\n",
       "mean     41.257783   1513.968225     2.520564    51.462268\n",
       "std      11.922833   3090.508938     2.728204   108.115084\n",
       "min      18.000000  -6847.000000     1.000000    -1.000000\n",
       "25%      32.000000    128.000000     1.000000    -1.000000\n",
       "50%      39.000000    550.000000     2.000000    -1.000000\n",
       "75%      49.000000   1685.000000     3.000000    41.000000\n",
       "max      95.000000  66653.000000    63.000000   854.000000"
      ]
     },
     "execution_count": 228,
     "metadata": {},
     "output_type": "execute_result"
    }
   ],
   "source": [
    "df.describe()"
   ]
  },
  {
   "cell_type": "code",
   "execution_count": 229,
   "id": "f223b931",
   "metadata": {},
   "outputs": [
    {
     "data": {
      "image/png": "[encoded data removed]",
      "text/plain": [
       "<Figure size 1200x800 with 4 Axes>"
      ]
     },
     "metadata": {},
     "output_type": "display_data"
    }
   ],
   "source": [
    "#Boxplot data numeric \n",
    "plt.figure(figsize=(12,8))\n",
    "\n",
    "plt.subplot(2,2,1)\n",
    "sns.boxplot(df[\"age\"])\n",
    "plt.title(\"Boxplot Age\")\n",
    "\n",
    "plt.subplot(2,2,2)\n",
    "sns.boxplot(df[\"balance\"])\n",
    "plt.title(\"Boxplot Balance\")\n",
    "\n",
    "plt.subplot(2,2,3)\n",
    "sns.boxplot(df[\"campaign\"])\n",
    "plt.title(\"Boxplot Campaign\")\n",
    "\n",
    "plt.subplot(2,2,4)\n",
    "sns.boxplot(df[\"pdays\"])\n",
    "plt.title(\"Boxplot Pdays\")\n",
    "\n",
    "plt.suptitle(\"Boxplots of Numeric Features\", fontsize=16)\n",
    "\n",
    "plt.show()"
   ]
  },
  {
   "cell_type": "code",
   "execution_count": 230,
   "id": "dce2ea1f",
   "metadata": {},
   "outputs": [
    {
     "name": "stdout",
     "output_type": "stream",
     "text": [
      "{'age': {'count_above_upper': 121,\n",
      "         'count_below_lower': 0,\n",
      "         'lower_bound': 6.5,\n",
      "         'upper_bound': 74.5},\n",
      " 'balance': {'count_above_upper': 733,\n",
      "             'count_below_lower': 3,\n",
      "             'lower_bound': -2207.5,\n",
      "             'upper_bound': 4020.5},\n",
      " 'campaign': {'count_above_upper': 429,\n",
      "              'count_below_lower': 0,\n",
      "              'lower_bound': -2.0,\n",
      "              'upper_bound': 6.0},\n",
      " 'pdays': {'count_above_upper': 1432,\n",
      "           'count_below_lower': 0,\n",
      "           'lower_bound': -64.0,\n",
      "           'upper_bound': 104.0}}\n"
     ]
    }
   ],
   "source": [
    "num_cols = ['age','balance','campaign','pdays']\n",
    "outlier_info = {}\n",
    "\n",
    "for col in num_cols:\n",
    "    Q1 = df[col].quantile(0.25)\n",
    "    Q3 = df[col].quantile(0.75)\n",
    "    IQR = Q3 - Q1\n",
    "    lower, upper = Q1 - 1.5*IQR, Q3 + 1.5*IQR\n",
    "\n",
    "    # Hitung jumlah outlier\n",
    "    n_lower = (df[col] < lower).sum()\n",
    "    n_upper = (df[col] > upper).sum()\n",
    "    outlier_info[col] = {'lower_bound': lower, \n",
    "                         'upper_bound': upper,\n",
    "                         'count_below_lower': n_lower,\n",
    "                         'count_above_upper': n_upper}\n",
    "\n",
    "import pprint; pprint.pprint(outlier_info)"
   ]
  },
  {
   "cell_type": "code",
   "execution_count": 231,
   "id": "851ac807",
   "metadata": {},
   "outputs": [
    {
     "data": {
      "image/png": "[encoded data removed]",
      "text/plain": [
       "<Figure size 1200x800 with 4 Axes>"
      ]
     },
     "metadata": {},
     "output_type": "display_data"
    }
   ],
   "source": [
    "#histplot data numeric pada train data\n",
    "plt.figure(figsize=(12,8))\n",
    "\n",
    "plt.subplot(2,2,1)\n",
    "sns.histplot(df[\"age\"])\n",
    "plt.title(\"histplot Age\")\n",
    "\n",
    "plt.subplot(2,2,2)\n",
    "sns.histplot(df[\"balance\"])\n",
    "plt.title(\"histplot Balance\")\n",
    "\n",
    "plt.subplot(2,2,3)\n",
    "sns.histplot(df[\"campaign\"])\n",
    "plt.title(\"histplot Campaign\")\n",
    "\n",
    "plt.subplot(2,2,4)\n",
    "sns.histplot(df[\"pdays\"])\n",
    "plt.title(\"histplot Pdays\")\n",
    "\n",
    "plt.suptitle(\"histplots of Numeric Features\", fontsize=16)\n",
    "plt.tight_layout()\n",
    "plt.show()"
   ]
  },
  {
   "cell_type": "markdown",
   "id": "9d9dfb7e",
   "metadata": {},
   "source": [
    "Terlihat semua data numerik tidak terdistribusi normal"
   ]
  },
  {
   "cell_type": "code",
   "execution_count": 232,
   "id": "1ef775fd",
   "metadata": {},
   "outputs": [
    {
     "name": "stdout",
     "output_type": "stream",
     "text": [
      "age: W=0.936, p-value=0.000\n",
      "balance: W=0.496, p-value=0.000\n",
      "campaign: W=0.638, p-value=0.000\n",
      "pdays: W=0.562, p-value=0.000\n"
     ]
    }
   ],
   "source": [
    "for col in num_cols:\n",
    "    sample = df[col].sample(500, random_state=42)\n",
    "    stat, p = shapiro(sample)\n",
    "    print(f\"{col}: W={stat:.3f}, p-value={p:.3f}\")"
   ]
  },
  {
   "cell_type": "markdown",
   "id": "5d1a38ff",
   "metadata": {},
   "source": [
    "## feature engineering"
   ]
  },
  {
   "cell_type": "markdown",
   "id": "b3356868",
   "metadata": {},
   "source": [
    "### 1. binary mapping\n",
    "- Alasan teknis: Banyak algoritma (Logistic Regression, KNN, XGBoost) membutuhkan input numerik—mapping “yes”/“no” → 1/0 membuat variabel siap diproses tanpa perlu one-hot encoding untuk dua kategori saja.\n",
    "\n",
    "- Alasan bisnis: Kepemilikan kredit rumah (housing) dan pinjaman pribadi (loan) merefleksikan profil keuangan klien. Mengubah ke 1/0 memudahkan model menilai dampak eksistensi, misalnya, apakah memiliki pinjaman lain menurunkan kemungkinan buka deposit?"
   ]
  },
  {
   "cell_type": "code",
   "execution_count": 233,
   "id": "52c4c81c",
   "metadata": {},
   "outputs": [],
   "source": [
    "df['housing'] = df['housing'].map({'yes':1,'no':0})\n",
    "df['loan']    = df['loan'].map({'yes':1,'no':0})"
   ]
  },
  {
   "cell_type": "markdown",
   "id": "ea3dc25c",
   "metadata": {},
   "source": [
    "### 2. membuat `had_contact_before` dari `pdays`\n",
    "\n",
    "- Alasan bisnis: Kolom pdays aslinya berisi “-1” jika belum pernah dihubungi sebelumnya, atau hari ke-berapa sejak kontak terakhir. Dengan membuat variabel biner had_contact_before, kita menangkap segmen klien yang belum pernah dihubungi sama sekali versus yang sudah pernah.\n",
    "\n",
    "- Alasan model: Seringnya interaksi sebelumnya (vs belum ada sama sekali) dapat memengaruhi respons; dengan membuat ini kita memisahkan dua kelompok tanpa harus menafsirkan rentang hari secara langsung."
   ]
  },
  {
   "cell_type": "code",
   "execution_count": 234,
   "id": "1248ac62",
   "metadata": {},
   "outputs": [],
   "source": [
    "df['had_contact_before'] = (df['pdays'] != -1).astype(int)"
   ]
  },
  {
   "cell_type": "markdown",
   "id": "6746c3cf",
   "metadata": {},
   "source": [
    "### 3. binning usia\n",
    "\n",
    "- <28\n",
    "Fresh graduates atau early career yang umumnya baru memasuki dunia kerja.\n",
    "\n",
    "Karakteristik: Pendapatan masih terbatas, prioritasnya kebutuhan dasar dan membangun emergency fund.\n",
    "\n",
    "\n",
    "- 28–40\n",
    "Career builders & young families yang mulai memiliki stabilitas finansial.\n",
    "\n",
    "Karakteristik: Pendapatan meningkat, kebutuhan keluarga (anak, rumah), tapi masih ada sisa untuk investasi jangka menengah.\n",
    "\n",
    "\n",
    "- 41–60\n",
    "Profesional mapan dengan pendapatan relatif stabil dan tujuan jangka panjang (pensiun, pendidikan anak).\n",
    "\n",
    "Karakteristik: Memiliki tabungan lebih besar, mencari instrumen risiko rendah untuk konservasi modal.\n",
    "\n",
    "\n",
    "- >60\n",
    "Pre-retiree dan retiree yang sangat konservatif.\n",
    "\n",
    "Karakteristik: Fokus pada proteksi modal dan pendapatan pasif, menghindari fluktuasi pasar.\n"
   ]
  },
  {
   "cell_type": "code",
   "execution_count": 235,
   "id": "a1fbb7b6",
   "metadata": {},
   "outputs": [
    {
     "name": "stdout",
     "output_type": "stream",
     "text": [
      "age_group\n",
      "28-40    45.0%\n",
      "41-60    38.7%\n",
      "<28      10.7%\n",
      ">60       5.6%\n",
      "Name: proportion, dtype: object\n"
     ]
    }
   ],
   "source": [
    "# Bin dan label baru\n",
    "bins = [df['age'].min()-1, 28, 40, 60, df['age'].max()+1]\n",
    "labels = [\n",
    "    '<28',      # Fresh graduates / early career\n",
    "    '28-40',    # Career builders & young families\n",
    "    '41-60',    # Stable income & long-term goals\n",
    "    '>60'       # Pre-/retiree, focus on capital preservation\n",
    "]\n",
    "\n",
    "# Buat kolom age_group\n",
    "df['age_group'] = pd.cut(\n",
    "    df['age'],\n",
    "    bins=bins,\n",
    "    labels=labels,\n",
    "    right=True\n",
    ")\n",
    "\n",
    "# Cek distribusi tiap grup\n",
    "print(df['age_group'].value_counts(normalize=True).mul(100).round(1).astype(str) + '%')"
   ]
  },
  {
   "cell_type": "markdown",
   "id": "37909376",
   "metadata": {},
   "source": [
    "### 4. memisahkan fitur numerik & kategorikal\n",
    "\n",
    "- Alasan teknis:\n",
    "\n",
    "Banyak algoritma (Logistic, KNN, XGBoost) tidak bisa langsung menangani string; satu-hot encoding mengubah setiap kategori jadi kolom biner terpisah.\n",
    "\n",
    "- Alasan bisnis: Misalnya, jenis pekerjaan (“admin”, “technician”, dll.) atau hasil kampanye sebelumnya (“failure”, “success”) secara spesifik memengaruhi probabilitas “yes” deposit—encoding biner memudahkan model mencerna per-kategori."
   ]
  },
  {
   "cell_type": "code",
   "execution_count": 236,
   "id": "d0db2b82",
   "metadata": {},
   "outputs": [],
   "source": [
    "num_features = ['age','balance','campaign','pdays']\n",
    "cat_features = ['job','contact','month','poutcome','age_group','housing','loan','had_contact_before']\n",
    "\n",
    "# Pipeline numerik: hanya scaling\n",
    "numeric_pipeline = Pipeline([\n",
    "    ('scaler', StandardScaler())\n",
    "])\n",
    "\n",
    "# Pipeline kategorikal: one-hot encoding\n",
    "categorical_pipeline = OneHotEncoder(drop='first', sparse_output=False)\n",
    "\n",
    "# Gabungkan jadi preprocessor\n",
    "preprocessor = ColumnTransformer([\n",
    "    ('num', numeric_pipeline, num_features),\n",
    "    ('cat', categorical_pipeline, cat_features)\n",
    "])"
   ]
  },
  {
   "cell_type": "markdown",
   "id": "fab58b56",
   "metadata": {},
   "source": [
    "# 4. Modeling & Evaluation"
   ]
  },
  {
   "cell_type": "markdown",
   "id": "0370bbbf",
   "metadata": {},
   "source": [
    "## train test split"
   ]
  },
  {
   "cell_type": "code",
   "execution_count": 237,
   "id": "be81cee5",
   "metadata": {},
   "outputs": [],
   "source": [
    "# Siapkan X dan y\n",
    "X = df.drop('deposit', axis=1)\n",
    "y = df['deposit'].map({'no':0, 'yes':1})\n",
    "\n",
    "# Bagi data: 80% train, 20% test (stratify agar proporsi kelas sama)\n",
    "X_train, X_test, y_train, y_test = train_test_split(\n",
    "    X, y,\n",
    "    test_size=0.2,\n",
    "    stratify=y,\n",
    "    random_state=84277941\n",
    ")\n",
    "\n",
    "# Setup Stratified K-Fold dan F2-scorer\n",
    "from sklearn.metrics import make_scorer, fbeta_score\n",
    "cv        = StratifiedKFold(n_splits=5, shuffle=True, random_state=84277941)\n",
    "f2_scorer = make_scorer(fbeta_score, beta=2)"
   ]
  },
  {
   "cell_type": "markdown",
   "id": "81867032",
   "metadata": {},
   "source": [
    "\n",
    "## default model"
   ]
  },
  {
   "cell_type": "markdown",
   "id": "1c818202",
   "metadata": {},
   "source": [
    "Pada tahap ini kita akan melakukan benchmarking lima model klasifikasi tanpa melakukan tuning parameter sama sekali. Model yang akan diuji adalah:\n",
    "\n",
    "- Logistic Regression\n",
    "\n",
    "- K-Nearest Neighbors (KNN)\n",
    "\n",
    "- Decision Tree Classifier\n",
    "\n",
    "- Random Forest Classifier\n",
    "\n",
    "- XGBClassifier"
   ]
  },
  {
   "cell_type": "code",
   "execution_count": 238,
   "id": "e7971de2",
   "metadata": {},
   "outputs": [
    {
     "name": "stdout",
     "output_type": "stream",
     "text": [
      "=== Default Models (5-fold CV on Train) ===\n",
      "  model   f2_mean    f2_std\n",
      "3    RF  0.651738  0.012770\n",
      "4   XGB  0.648060  0.018562\n",
      "1   KNN  0.634781  0.019256\n",
      "0    LR  0.619519  0.008474\n",
      "2    DT  0.612790  0.005929\n"
     ]
    }
   ],
   "source": [
    "# Bungkus preprocessor (dari Bagian 3) + estimator\n",
    "models = {\n",
    "    'LR':  Pipeline([('prep', preprocessor),\n",
    "                     ('clf', LogisticRegression(max_iter=1000, random_state=84277941))]),\n",
    "    'KNN': Pipeline([('prep', preprocessor),\n",
    "                     ('clf', KNeighborsClassifier())]),\n",
    "    'DT':  Pipeline([('prep', preprocessor),\n",
    "                     ('clf', DecisionTreeClassifier(random_state=84277941))]),\n",
    "    'RF':  Pipeline([('prep', preprocessor),\n",
    "                     ('clf', RandomForestClassifier(n_estimators=100, random_state=84277941))]),\n",
    "    'XGB': Pipeline([('prep', preprocessor),\n",
    "                     ('clf', XGBClassifier(use_label_encoder=False,\n",
    "                                           eval_metric='logloss',\n",
    "                                           random_state=84277941))])\n",
    "}\n",
    "\n",
    "default_results = []\n",
    "for name, pipe in models.items():\n",
    "    scores = cross_val_score(pipe, X_train, y_train,\n",
    "                             cv=cv,\n",
    "                             scoring=f2_scorer,\n",
    "                             n_jobs=-1)\n",
    "    default_results.append((name, scores.mean(), scores.std()))\n",
    "\n",
    "df_default = pd.DataFrame(default_results,\n",
    "                          columns=['model','f2_mean','f2_std']) \\\n",
    "               .sort_values('f2_mean', ascending=False)\n",
    "print(\"=== Default Models (5-fold CV on Train) ===\")\n",
    "print(df_default)\n"
   ]
  },
  {
   "cell_type": "markdown",
   "id": "93e07e3c",
   "metadata": {},
   "source": [
    "1. Random Forest (RF) memimpin dengan F₂ ≈ 0.652 dan variasi fold yang rendah (std ≈ 0.013), menandakan performa tinggi sekaligus stabilitas bagus.\n",
    "\n",
    "2. XGBClassifier hampir sebanding (F₂ ≈ 0.648) namun dengan variasi sedikit lebih besar (std ≈ 0.019), mengindikasikan XGB mungkin lebih peka terhadap pembagian data dan bisa ditingkatkan lewat tuning.\n",
    "\n",
    "3. KNN (0.635) menempati posisi ketiga—cukup kompetitif untuk model non-tree, tetapi perlu tuning jumlah tetangga (n_neighbors) dan pemilihan metrik jarak agar bisa mendekati performa tree-based.\n",
    "\n",
    "4. Logistic Regression (LR) (0.620) menunjukkan baseline yang wajar untuk pendekatan linear, dengan variasi CV paling rendah (std ≈ 0.0085), menandakan konsistensi tetapi kurang menangkap kompleksitas data non-linear.\n",
    "\n",
    "5. Decision Tree (DT) (0.613) paling rendah, walau stabil (std ≈ 0.006), menandakan model tunggal ini terlalu mudah overfit pada masing-masing fold tanpa stabilisasi seperti ensemble.\n",
    "\n",
    "insight:\n",
    "\n",
    "- RF dan XGB adalah kandidat terkuat untuk tahapan tuning berikutnya.\n",
    "\n",
    "- Performa tree-based >> linear/KNN, mengisyaratkan pola kompleks dan interaksi antar fitur yang lebih baik ditangkap oleh ensemble.\n",
    "\n",
    "- Spread (std) relatif kecil (<0.02) menunjukkan dataset ini cukup stabil untuk CV, sehingga tuning diharapkan memberi peningkatan F₂ yang nyata."
   ]
  },
  {
   "cell_type": "markdown",
   "id": "d0dd6d9a",
   "metadata": {},
   "source": [
    "## hyperparameter tuning\n",
    "\n",
    "Setelah kita tahu model mana yang paling menjanjikan secara default (yaitu Random Forest dan XGB), pada tahap ini kita akan mengoptimalisasi parameter mereka menggunakan:\n",
    "\n",
    "- GridSearchCV dengan Stratified K-Fold (5 split)\n",
    "\n",
    "- Scoring: F₂-score (β=2)\n"
   ]
  },
  {
   "cell_type": "code",
   "execution_count": 239,
   "id": "c089127c",
   "metadata": {},
   "outputs": [
    {
     "name": "stdout",
     "output_type": "stream",
     "text": [
      "Best RF params: {'clf__max_depth': None, 'clf__min_samples_leaf': 1, 'clf__n_estimators': 200}\n",
      "Best RF F2 (CV): 0.6573424294642736\n",
      "Best XGB params: {'clf__learning_rate': 0.1, 'clf__max_depth': 6, 'clf__n_estimators': 200, 'clf__subsample': 0.7}\n",
      "Best XGB F2 (CV): 0.6542980200893737\n"
     ]
    }
   ],
   "source": [
    "# RandomForest tuning\n",
    "param_rf = {\n",
    "    'clf__n_estimators':    [100, 200],\n",
    "    'clf__max_depth':       [None, 10, 20],\n",
    "    'clf__min_samples_leaf':[1, 2, 5]\n",
    "}\n",
    "grid_rf = GridSearchCV(models['RF'],\n",
    "                       param_rf,\n",
    "                       cv=cv,\n",
    "                       scoring=f2_scorer,\n",
    "                       n_jobs=-1)\n",
    "grid_rf.fit(X_train, y_train)\n",
    "print(\"Best RF params:\", grid_rf.best_params_)\n",
    "print(\"Best RF F2 (CV):\", grid_rf.best_score_)\n",
    "\n",
    "# XGB tuning\n",
    "param_xgb = {\n",
    "    'clf__n_estimators':   [100, 200],\n",
    "    'clf__learning_rate':  [0.01, 0.1],\n",
    "    'clf__max_depth':      [3, 6, 10],\n",
    "    'clf__subsample':      [0.7, 1.0]\n",
    "}\n",
    "grid_xgb = GridSearchCV(models['XGB'],\n",
    "                        param_xgb,\n",
    "                        cv=cv,\n",
    "                        scoring=f2_scorer,\n",
    "                        n_jobs=-1)\n",
    "grid_xgb.fit(X_train, y_train)\n",
    "print(\"Best XGB params:\", grid_xgb.best_params_)\n",
    "print(\"Best XGB F2 (CV):\", grid_xgb.best_score_)"
   ]
  },
  {
   "cell_type": "markdown",
   "id": "fd229b9f",
   "metadata": {},
   "source": [
    "1. Peningkatan Performa:\n",
    "\n",
    "- RF naik dari ~0.6517 → 0.6573 (+0.0056)\n",
    "\n",
    "- XGB naik dari ~0.6481 → 0.6543 (+0.0062)\n",
    "Keduanya memberikan peningkatan F₂ yang konsisten lewat penambahan jumlah estimator (200) dan, pada XGB, dengan subsample=0.7 untuk meredam overfit.\n",
    "\n",
    "2. Arti Parameter:\n",
    "\n",
    "- n_estimators=200 (RF & XGB): Menambah jumlah pohon memperkuat ensemble, mengurangi variance.\n",
    "\n",
    "- max_depth=None (RF): Pohon RF diizinkan tumbuh penuh—model bisa menangkap interaksi kompleks.\n",
    "\n",
    "- min_samples_leaf=1 (RF): Maksimal granularitas split, cocok bila data cukup besar.\n",
    "\n",
    "- learning_rate=0.1 (XGB): Memberi trade-off lambat dalam boosting, meminimalkan risiko gradient step yang “melejit.”\n",
    "\n",
    "- max_depth=6 (XGB): Cukup dalam untuk pola non-linear, tapi tidak terlalu dangkal agar tetap memodel interaksi.\n",
    "\n",
    "- subsample=0.7 (XGB): Menarik hanya 70% data per tree, meningkatkan robustness dengan randomness.\n",
    "\n",
    "3. Perbandingan RF vs XGB:\n",
    "\n",
    "- RF_tuned (0.6573) masih unggul tipis dibanding XGB_tuned (0.6543).\n",
    "\n",
    "- Standard deviation CV sedikit lebih rendah pada RF, mengindikasikan stabilitas yang lebih baik."
   ]
  },
  {
   "cell_type": "markdown",
   "id": "406815f7",
   "metadata": {},
   "source": [
    "## Cross-Validation After Tuning\n",
    "\n",
    "Di sini kita membandingkan model default vs model hasil tuning (RF_tuned, XGB_tuned) agar kita tahu seberapa besar peningkatan performa yang diperoleh:\n",
    "\n",
    "- Jalankan kembali Stratified K-Fold CV (5 split) pada train set untuk versi tuned.\n",
    "\n",
    "- Hitung rata-rata & standar deviasi F₂-score.\n",
    "\n",
    "- Bandingkan hasil default vs tuned untuk memastikan tuning memang menambah nilai."
   ]
  },
  {
   "cell_type": "code",
   "execution_count": 240,
   "id": "a00ff0e1",
   "metadata": {},
   "outputs": [
    {
     "name": "stdout",
     "output_type": "stream",
     "text": [
      "=== Tuned Models (5-fold CV on Train) ===\n",
      "       model   f2_mean    f2_std\n",
      "0   RF_tuned  0.657342  0.015851\n",
      "1  XGB_tuned  0.654298  0.015027\n"
     ]
    }
   ],
   "source": [
    "tuned_pipes = {\n",
    "    'RF_tuned':  grid_rf.best_estimator_,\n",
    "    'XGB_tuned': grid_xgb.best_estimator_\n",
    "}\n",
    "\n",
    "tuned_results = []\n",
    "for name, pipe in tuned_pipes.items():\n",
    "    scores = cross_val_score(pipe, X_train, y_train,\n",
    "                             cv=cv,\n",
    "                             scoring=f2_scorer,\n",
    "                             n_jobs=-1)\n",
    "    tuned_results.append((name, np.mean(scores), np.std(scores)))\n",
    "\n",
    "df_tuned = pd.DataFrame(tuned_results, columns=['model','f2_mean','f2_std'])\\\n",
    "             .sort_values('f2_mean', ascending=False)\n",
    "print(\"=== Tuned Models (5-fold CV on Train) ===\")\n",
    "print(df_tuned)"
   ]
  },
  {
   "cell_type": "markdown",
   "id": "b7b90b3a",
   "metadata": {},
   "source": [
    "1. Konsistensi Peningkatan\n",
    "\n",
    "- Kedua model ter-tuning mempertahankan peningkatan F₂ yang sudah terlihat di hasil GridSearchCV (RF: ~0.6573, XGB: ~0.6543).\n",
    "\n",
    "- Meskipun ada sedikit kenaikan standar deviasi (RF dari ≈0.0128 → 0.0159; XGB dari ≈0.0186 → 0.0150), variasi antar fold masih dalam batas wajar (<0.02), menandakan tuning tidak membuat model menjadi terlalu sensitif terhadap pembagian data.\n",
    "\n",
    "2. RF vs XGB\n",
    "\n",
    "- RF_tuned unggul tipis atas XGB_tuned, baik dari sisi F₂-mean maupun stabilitas fold (std lebih rendah pada XGB_tuned, tapi mean-nya lebih rendah dibanding RF).\n",
    "\n",
    "- Perbedaan F₂-mean ~0.003 menunjukkan bahwa ensemble pohon acak (RF) sedikit lebih cocok untuk data ini setelah tuning.\n",
    "\n",
    "3. Relevansi Bisnis\n",
    "\n",
    "- Peningkatan F₂ dari default RF (0.6517) ke RF_tuned (0.6573) setara dengan peningkatan recall fokus (β=2) yang baku, sehingga model lebih andal dalam mendeteksi klien “yes” dan meminimalkan kehilangan calon pelanggan berpotensi."
   ]
  },
  {
   "cell_type": "markdown",
   "id": "30ef8fd5",
   "metadata": {},
   "source": [
    "## threshold adjusment & final evaluation\n",
    "\n",
    "1. Cari threshold optimal pada hold-out test set.\n",
    "\n",
    "2. Evaluasi akhir dengan threshold tersebut."
   ]
  },
  {
   "cell_type": "code",
   "execution_count": null,
   "id": "4abb01b7",
   "metadata": {},
   "outputs": [
    {
     "name": "stdout",
     "output_type": "stream",
     "text": [
      "Optimal threshold on test: 0.10, F2-score: 0.814\n"
     ]
    },
    {
     "data": {
      "image/png": "[encoded data removed]",
      "text/plain": [
       "<Figure size 640x480 with 1 Axes>"
      ]
     },
     "metadata": {},
     "output_type": "display_data"
    },
    {
     "name": "stdout",
     "output_type": "stream",
     "text": [
      "=== Final Classification Report ===\n",
      "              precision    recall  f1-score   support\n",
      "\n",
      "          no       0.77      0.08      0.15       815\n",
      "         yes       0.49      0.97      0.65       746\n",
      "\n",
      "    accuracy                           0.51      1561\n",
      "   macro avg       0.63      0.53      0.40      1561\n",
      "weighted avg       0.64      0.51      0.39      1561\n",
      "\n"
     ]
    },
    {
     "data": {
      "image/png": "[encoded data removed]",
      "text/plain": [
       "<Figure size 640x480 with 2 Axes>"
      ]
     },
     "metadata": {},
     "output_type": "display_data"
    }
   ],
   "source": [
    "# Latih ulang model terbaik (contoh: RF_tuned) pada seluruh train set\n",
    "best_model = grid_rf.best_estimator_\n",
    "best_model.fit(X_train, y_train)\n",
    "\n",
    "# Prediksi probabilitas pada test set\n",
    "probs_test = best_model.predict_proba(X_test)[:,1]\n",
    "\n",
    "# Sweep threshold untuk F2\n",
    "thresholds = np.linspace(0.1, 0.9, 41)\n",
    "f2_scores = [fbeta_score(y_test, probs_test > t, beta=2) for t in thresholds]\n",
    "\n",
    "# Ambil threshold terbaik\n",
    "idx = np.argmax(f2_scores)\n",
    "opt_thresh = thresholds[idx]\n",
    "opt_f2     = f2_scores[idx]\n",
    "print(f\"Optimal threshold on test: {opt_thresh:.2f}, F2-score: {opt_f2:.3f}\")\n",
    "\n",
    "# Plot Threshold vs F2\n",
    "plt.plot(thresholds, f2_scores)\n",
    "plt.xlabel('Threshold')\n",
    "plt.ylabel('F2-score')\n",
    "plt.title('Threshold Optimization on Test Set')\n",
    "plt.show()\n",
    "\n",
    "# Prediksi final dengan threshold optimal\n",
    "y_pred_opt = (probs_test > opt_thresh).astype(int)\n",
    "\n",
    "# Laporan klasifikasi akhir\n",
    "print(\"=== Final Classification Report ===\")\n",
    "print(classification_report(y_test, y_pred_opt, target_names=['no','yes']))\n",
    "\n",
    "# Confusion matrix\n",
    "cm = confusion_matrix(y_test, y_pred_opt)\n",
    "sns.heatmap(cm, annot=True, fmt='d')\n",
    "plt.title('Confusion Matrix (Threshold Adjusted)')\n",
    "plt.ylabel('Actual')\n",
    "plt.xlabel('Predicted')\n",
    "plt.show()"
   ]
  },
  {
   "cell_type": "markdown",
   "id": "bd28988b",
   "metadata": {},
   "source": [
    "### 1. Threshold vs F₂-score\n",
    "\n",
    "- Grafik menunjukkan F₂-score tertinggi (~0.815) dicapai pada threshold = 0.10.\n",
    "\n",
    "- Artinya, bila kita menganggap “yes” setiap probabilitas ≥ 0.10, recall untuk kelas “yes” meningkat drastis—sesuai tujuan F₂ (β=2) yang menitikberatkan recall.\n",
    "\n",
    "- Sejak threshold kecil, hampir semua instance diberi label “yes”, memaksimalkan jumlah true positives (meminimalkan false negatives).\n",
    "\n",
    "### 2. Classification Report\n",
    "\n",
    "- Recall “yes” = 0.97: Hampir semua calon depositor terdeteksi.\n",
    "\n",
    "- Precision “yes” = 0.49: Sekitar setengah dari yang diprediksi “yes” benar-benar akan deposit.\n",
    "\n",
    "- Recall “no” = 0.08: Banyak nasabah “no” yang salah dikontak (false positives tinggi).\n",
    "\n",
    "- Accuracy rendah (0.51) wajar karena threshold sengaja rendah untuk memprioritaskan recall kelas “yes”.\n",
    "\n",
    "### 3. Confusion Matrix\n",
    "\n",
    "- True Positives (TP): 726 dari 746 nasabah “yes” (recall = 0.97)\n",
    "\n",
    "- False Negatives (FN): Hanya 20 “yes” yang terlewat\n",
    "\n",
    "- False Positives (FP): 746 “no” dikira “yes”\n",
    "\n",
    "- True Negatives (TN): 69 “no” berhasil terdeteksi\n",
    "\n",
    "### 4. Interpretasi Bisnis\n",
    "\n",
    "- High Recall “yes” (0.97)\n",
    "\n",
    "    + Artinya: Dari 746 nasabah yang benar–benar akan membuka deposit, 726 berhasil kita tangkap.\n",
    "\n",
    "    + Manfaat Bisnis: Hampir tidak ada calon depositor yang “meloloskan diri” (false negative), sehingga potensi pendapatan dari deposit terjaga maksimal.\n",
    "\n",
    "- Moderate Precision “yes” (0.49)\n",
    "\n",
    "    + Artinya: Dari (726 TP + 746 FP)=1.472 panggilan ke calon “yes”, hanya 49% yang benar-benar akan deposit.\n",
    "\n",
    "    + Manfaat & Risiko: Anda perlu menelpon rata-rata 2 prospek untuk mendapatkan 1 nasabah deposit; sisanya menelan biaya panggilan & tenaga tanpa hasil.\n",
    "\n",
    "- False Positives (“no” → “yes”) Tinggi (746)\n",
    "\n",
    "    + Artinya: 746 dari 815 nasabah “no” dikontak sia-sia.\n",
    "\n",
    "    + Dampak Biaya:\n",
    "\n",
    "        - Operation cost telemarketing naik: waktu dan tenaga agen terpakai untuk kontak yang tidak menghasilkan deposit.\n",
    "\n",
    "        - Biaya panggilan & follow-up: jika misalnya biaya rata-rata per panggilan $2, berarti ada ~$1.492 yang “terbuang”.\n",
    "\n",
    "- False Negatives (“yes” → “no”) Rendah (20)\n",
    "\n",
    "    + Artinya: Hanya 20 depositor potensial yang tidak kita kontak—angka “hilang” <3% dari total target “yes”.\n",
    "\n",
    "    + Keuntungan: Hampir semua peluang pendapatan tertangkap.\n",
    "\n",
    "- Accuracy Rendah (0.51)\n",
    "\n",
    "    + Mengapa bukan fokus: Karena kita memilih metrik F₂ (β=2), kita rela “korbankan” accuracy & precision demi recall yang sangat tinggi. Accuracy ~50% di sini berarti deteksi “yes” vs “no” imbalanced sengaja diatur.\n",
    "\n",
    "- Trade-off Threshold\n",
    "\n",
    "    + Threshold = 0.10 memaksimalkan F₂, tetapi memperbanyak false positives.\n",
    "\n",
    "    + Jika biaya kontak terlalu tinggi, pertimbangkan menaikkan threshold (misal 0.15–0.20) untuk menyeimbangkan:\n",
    "\n",
    "        - Precision “yes” naik → panggilan lebih “tepat sasaran”\n",
    "\n",
    "        - Recall turun sedikit → ada beberapa depositor potensial yang mungkin terlewat"
   ]
  },
  {
   "cell_type": "markdown",
   "id": "6ec770e8",
   "metadata": {},
   "source": [
    "### Berdasarkan benchmark industri dan data yang tersedia, berikut nilai yang paling sesuai beserta sumbernya:\n",
    "\n",
    "1. Cost per call: rata-rata $2.70–$5.60 per panggilan \n",
    " → kita ambil midpoint $4.15.\n",
    "\n",
    "2. Average balance per account: median $8 000 (transaction accounts) \n",
    "; APY 1.75% untuk term deposit 1-tahun \n",
    " → revenue rata-rata $8 000 × 1.75% = $140.\n",
    "\n",
    "3. Total marketing budget: bank biasanya mengalokasikan 0.05–0.07% aset untuk marketing \n",
    "; misal aset = $500 000 000, maka budget ≈ 0.06% × $500 M = $300 000.\n",
    "\n",
    "source: \n",
    "- https://www.maestroqa.com/blog/call-center-cost-per-call?\n",
    "- https://www.bankrate.com/banking/savings/savings-account-average-balance/?\n",
    "- https://www.nerdwallet.com/article/banking/average-rates-for-deposit-accounts?\n",
    "- https://bankingjournal.aba.com/2025/01/bank-marketing-budget-and-staffing-considerations-for-2025/?"
   ]
  },
  {
   "cell_type": "code",
   "execution_count": 246,
   "id": "6b7225dd",
   "metadata": {},
   "outputs": [
    {
     "name": "stdout",
     "output_type": "stream",
     "text": [
      "                 tier   calls  deposits  revenue($)  cost($)        ROI  \\\n",
      "0         Low (<0.10)    77.0      11.0      1540.0   319.55   3.819277   \n",
      "1  Medium (0.10–0.29)   409.0     114.0     15960.0  1697.35   8.402893   \n",
      "2        High (≥0.30)  1074.0     620.0     86800.0  4457.10  18.474546   \n",
      "\n",
      "   allocated_budget($)  \n",
      "0         37325.918820  \n",
      "1         82121.742814  \n",
      "2        180552.338366  \n"
     ]
    }
   ],
   "source": [
    "pipeline = Pipeline([\n",
    "    ('prep', preprocessor),\n",
    "    ('clf', RandomForestClassifier(\n",
    "        n_estimators=200, max_depth=None, min_samples_leaf=1, random_state=42\n",
    "    ))\n",
    "])\n",
    "\n",
    "pipeline.fit(X_train, y_train)\n",
    "probs = pipeline.predict_proba(X_test)[:,1]\n",
    "df_result = pd.DataFrame({'probability':probs, 'actual':y_test.values})\n",
    "\n",
    "opt_thresh = 0.10\n",
    "df_result['tier'] = pd.cut(\n",
    "    df_result['probability'],\n",
    "    bins=[0, opt_thresh, 0.30, 1.0],\n",
    "    labels=['Low (<0.10)', 'Medium (0.10–0.29)', 'High (≥0.30)'],\n",
    "    right=False\n",
    ")\n",
    "\n",
    "# Asumsi based on industry benchmarks\n",
    "cost_per_call = 4.15              \n",
    "avg_rev_per_deposit = 140       \n",
    "total_budget = 300_000           \n",
    "\n",
    "\n",
    "def metrics_by_tier(group):\n",
    "    calls = len(group)\n",
    "    deposits = group['actual'].sum()\n",
    "    revenue = deposits * avg_rev_per_deposit\n",
    "    cost = calls * cost_per_call\n",
    "    roi = (revenue - cost) / cost if cost>0 else float('nan')\n",
    "    return {\n",
    "        'calls': calls,\n",
    "        'deposits': deposits,\n",
    "        'revenue($)': revenue,\n",
    "        'cost($)': cost,\n",
    "        'ROI': roi\n",
    "    }\n",
    "\n",
    "# Hitung ROI\n",
    "roi_table = df_result.groupby('tier').apply(metrics_by_tier).apply(pd.Series).reset_index()\n",
    "\n",
    "# Alokasi budget proporsional ke ROI\n",
    "roi_table['allocated_budget($)'] = (roi_table['ROI'] / roi_table['ROI'].sum()) * total_budget\n",
    "\n",
    "print(roi_table)\n"
   ]
  },
  {
   "cell_type": "markdown",
   "id": "c401b6d6",
   "metadata": {},
   "source": [
    "1. Conversion Rate & Efisiensi\n",
    "\n",
    "- High tier: conversion rate tertinggi (~57.7%), berarti setiap 2 panggilan menghasilkan ~1 deposit.\n",
    "\n",
    "- Medium tier: conversion ~27.9%, masih sangat menguntungkan—sekitar 1 deposit dari 4 panggilan.\n",
    "\n",
    "- Low tier: conversion terendah (~14.3%)—sekitar 1 deposit dari 7 panggilan.\n",
    "\n",
    "2. ROI Relative\n",
    "\n",
    "- High tier: ROI ≈ 18.5× (1 747%!), paling tinggi di antara semua segmen—setiap $1 biaya kontak menghasilkan $18,5 revenue.\n",
    "\n",
    "- Medium tier: ROI ≈ 8.4× (740%)—masih sangat baik, menghasilkan $8,4 revenue per $1 biaya.\n",
    "\n",
    "- Low tier: ROI ≈ 3.8× (282%)—masih positif, tetapi jauh di bawah kedua segmen lainnya.\n",
    "\n",
    "3. Alokasi Anggaran\n",
    "\n",
    "- Dari total $300 000, alokasi proporsional ke ROI:\n",
    "\n",
    "    + High tier: ~$180 552 (60%)\n",
    "\n",
    "    + Medium tier: ~$82 122 (27%)\n",
    "\n",
    "    + Low tier: ~$37 326 (12%)\n",
    "\n",
    "4. Rekomendasi Tindakan\n",
    "\n",
    "- Fokus Utama: Berdasarkan ROI dan conversion, High tier adalah prioritas pertama—pastikan telemarketing memaksimalkan kontak di segmen ini.\n",
    "\n",
    "- Dukungan Sekunder: Medium tier juga sangat menguntungkan; gunakan channel yang lebih cost-effective (email/SMS) untuk memfilter sebelum telepon.\n",
    "\n",
    "- Pertimbangkan Efisiensi: Low tier walau positif ROI, memiliki efektivitas paling rendah. Untuk menekan biaya, bisa:\n",
    "\n",
    "    + Mengurangi frekuensi panggilan dalam fase awal.\n",
    "\n",
    "    + Menempatkan Low tier dalam cycle retargeting jangka panjang (mis. follow-up setelah 1–2 bulan)."
   ]
  },
  {
   "cell_type": "markdown",
   "id": "10bade31",
   "metadata": {},
   "source": [
    "# 5. Conclusion & Recommendation\n"
   ]
  },
  {
   "cell_type": "markdown",
   "id": "7f5f0e10",
   "metadata": {},
   "source": [
    "## Conclusion\n",
    "\n",
    "1. **Model & Performance**  \n",
    "   - Model terpilih: **Random Forest (tuned)**  \n",
    "   - F₂-score (train CV): 0.657  \n",
    "   - F₂-score (test, threshold=0.10): **0.815**  \n",
    "   - Recall “yes”: 0.97 → Hampir semua depositor terdeteksi  \n",
    "   - Precision “yes”: 0.49 → Sekitar setengah panggilan “yes” berbuah deposit  \n",
    "\n",
    "2. **Dampak Bisnis**  \n",
    "   - **Total Prospek Test**: 1 561  \n",
    "   - **Total Depositor**: 746 → Revenue ≈ \\$104 440  \n",
    "   - **Total Biaya Outreach**: 1 561 × \\$4,15 ≈ \\$6 480  \n",
    "   - **Net Profit**: ≈ \\$97 960  \n",
    "\n",
    "3. **Trade-off Threshold**  \n",
    "   - Threshold 0.10 memaksimalkan recall, dengan banyak false positives.  \n",
    "   - Jika biaya kontak dirasa terlalu tinggi, threshold dapat dinaikkan ke 0.15–0.20 untuk menaikkan precision sambil tetap menjaga recall di atas 90%.\n"
   ]
  },
  {
   "cell_type": "markdown",
   "id": "2d05ff4b",
   "metadata": {},
   "source": [
    "## Recommendation\n",
    "\n",
    "1. **Tiered Budget Allocation**  \n",
    "   - **High (≥0.30)**: Alokasikan **60 %** anggaran, hubungi via telepon langsung.  \n",
    "   - **Medium (0.10–0.29)**: Alokasikan **27 %** anggaran, kirim email/SMS dahulu, lalu panggilan hanya untuk yang merespons.  \n",
    "   - **Low (<0.10)**: Alokasikan **13 %** anggaran, simpan di daftar retargeting jangka panjang.\n",
    "\n",
    "2. **A/B Test Threshold**  \n",
    "   - Bagi prospek dengan skor ≥ 0.10 menjadi dua grup:  \n",
    "     - **Grup A**: threshold 0.10  \n",
    "     - **Grup B**: threshold 0.20  \n",
    "   - Jalankan kampanye kecil (mis. 500 prospek per grup), catat jumlah panggilan vs deposit, hitung F₂ dan cost per deposit.\n",
    "\n",
    "3. **Manual Monitoring & Reporting**  \n",
    "   - Setiap minggu jalankan ulang notebook untuk menghitung F₂, recall, precision pada data terbaru.  \n",
    "   - Ekspor confusion matrix dan metrik ke Excel/Google Sheets dan review bersama tim marketing.\n",
    "\n",
    "4. **Iterasi & Penyempurnaan**  \n",
    "   - Setelah 2–4 minggu, analisis hasil A/B test, pilih threshold terbaik dan sesuaikan di notebook.  \n",
    "   - Tambahkan fitur baru (mis. jumlah kontak per bulan) jika ingin meningkatkan performa lebih lanjut.\n",
    "\n"
   ]
  },
  {
   "cell_type": "markdown",
   "id": "f949570f",
   "metadata": {},
   "source": [
    "## Saving"
   ]
  },
  {
   "cell_type": "code",
   "execution_count": 250,
   "id": "3e5d9396",
   "metadata": {},
   "outputs": [
    {
     "data": {
      "text/html": [
       "<style>#sk-container-id-1 {\n",
       "  /* Definition of color scheme common for light and dark mode */\n",
       "  --sklearn-color-text: black;\n",
       "  --sklearn-color-line: gray;\n",
       "  /* Definition of color scheme for unfitted estimators */\n",
       "  --sklearn-color-unfitted-level-0: #fff5e6;\n",
       "  --sklearn-color-unfitted-level-1: #f6e4d2;\n",
       "  --sklearn-color-unfitted-level-2: #ffe0b3;\n",
       "  --sklearn-color-unfitted-level-3: chocolate;\n",
       "  /* Definition of color scheme for fitted estimators */\n",
       "  --sklearn-color-fitted-level-0: #f0f8ff;\n",
       "  --sklearn-color-fitted-level-1: #d4ebff;\n",
       "  --sklearn-color-fitted-level-2: #b3dbfd;\n",
       "  --sklearn-color-fitted-level-3: cornflowerblue;\n",
       "\n",
       "  /* Specific color for light theme */\n",
       "  --sklearn-color-text-on-default-background: var(--sg-text-color, var(--theme-code-foreground, var(--jp-content-font-color1, black)));\n",
       "  --sklearn-color-background: var(--sg-background-color, var(--theme-background, var(--jp-layout-color0, white)));\n",
       "  --sklearn-color-border-box: var(--sg-text-color, var(--theme-code-foreground, var(--jp-content-font-color1, black)));\n",
       "  --sklearn-color-icon: #696969;\n",
       "\n",
       "  @media (prefers-color-scheme: dark) {\n",
       "    /* Redefinition of color scheme for dark theme */\n",
       "    --sklearn-color-text-on-default-background: var(--sg-text-color, var(--theme-code-foreground, var(--jp-content-font-color1, white)));\n",
       "    --sklearn-color-background: var(--sg-background-color, var(--theme-background, var(--jp-layout-color0, #111)));\n",
       "    --sklearn-color-border-box: var(--sg-text-color, var(--theme-code-foreground, var(--jp-content-font-color1, white)));\n",
       "    --sklearn-color-icon: #878787;\n",
       "  }\n",
       "}\n",
       "\n",
       "#sk-container-id-1 {\n",
       "  color: var(--sklearn-color-text);\n",
       "}\n",
       "\n",
       "#sk-container-id-1 pre {\n",
       "  padding: 0;\n",
       "}\n",
       "\n",
       "#sk-container-id-1 input.sk-hidden--visually {\n",
       "  border: 0;\n",
       "  clip: rect(1px 1px 1px 1px);\n",
       "  clip: rect(1px, 1px, 1px, 1px);\n",
       "  height: 1px;\n",
       "  margin: -1px;\n",
       "  overflow: hidden;\n",
       "  padding: 0;\n",
       "  position: absolute;\n",
       "  width: 1px;\n",
       "}\n",
       "\n",
       "#sk-container-id-1 div.sk-dashed-wrapped {\n",
       "  border: 1px dashed var(--sklearn-color-line);\n",
       "  margin: 0 0.4em 0.5em 0.4em;\n",
       "  box-sizing: border-box;\n",
       "  padding-bottom: 0.4em;\n",
       "  background-color: var(--sklearn-color-background);\n",
       "}\n",
       "\n",
       "#sk-container-id-1 div.sk-container {\n",
       "  /* jupyter's `normalize.less` sets `[hidden] { display: none; }`\n",
       "     but bootstrap.min.css set `[hidden] { display: none !important; }`\n",
       "     so we also need the `!important` here to be able to override the\n",
       "     default hidden behavior on the sphinx rendered scikit-learn.org.\n",
       "     See: https://github.com/scikit-learn/scikit-learn/issues/21755 */\n",
       "  display: inline-block !important;\n",
       "  position: relative;\n",
       "}\n",
       "\n",
       "#sk-container-id-1 div.sk-text-repr-fallback {\n",
       "  display: none;\n",
       "}\n",
       "\n",
       "div.sk-parallel-item,\n",
       "div.sk-serial,\n",
       "div.sk-item {\n",
       "  /* draw centered vertical line to link estimators */\n",
       "  background-image: linear-gradient(var(--sklearn-color-text-on-default-background), var(--sklearn-color-text-on-default-background));\n",
       "  background-size: 2px 100%;\n",
       "  background-repeat: no-repeat;\n",
       "  background-position: center center;\n",
       "}\n",
       "\n",
       "/* Parallel-specific style estimator block */\n",
       "\n",
       "#sk-container-id-1 div.sk-parallel-item::after {\n",
       "  content: \"\";\n",
       "  width: 100%;\n",
       "  border-bottom: 2px solid var(--sklearn-color-text-on-default-background);\n",
       "  flex-grow: 1;\n",
       "}\n",
       "\n",
       "#sk-container-id-1 div.sk-parallel {\n",
       "  display: flex;\n",
       "  align-items: stretch;\n",
       "  justify-content: center;\n",
       "  background-color: var(--sklearn-color-background);\n",
       "  position: relative;\n",
       "}\n",
       "\n",
       "#sk-container-id-1 div.sk-parallel-item {\n",
       "  display: flex;\n",
       "  flex-direction: column;\n",
       "}\n",
       "\n",
       "#sk-container-id-1 div.sk-parallel-item:first-child::after {\n",
       "  align-self: flex-end;\n",
       "  width: 50%;\n",
       "}\n",
       "\n",
       "#sk-container-id-1 div.sk-parallel-item:last-child::after {\n",
       "  align-self: flex-start;\n",
       "  width: 50%;\n",
       "}\n",
       "\n",
       "#sk-container-id-1 div.sk-parallel-item:only-child::after {\n",
       "  width: 0;\n",
       "}\n",
       "\n",
       "/* Serial-specific style estimator block */\n",
       "\n",
       "#sk-container-id-1 div.sk-serial {\n",
       "  display: flex;\n",
       "  flex-direction: column;\n",
       "  align-items: center;\n",
       "  background-color: var(--sklearn-color-background);\n",
       "  padding-right: 1em;\n",
       "  padding-left: 1em;\n",
       "}\n",
       "\n",
       "\n",
       "/* Toggleable style: style used for estimator/Pipeline/ColumnTransformer box that is\n",
       "clickable and can be expanded/collapsed.\n",
       "- Pipeline and ColumnTransformer use this feature and define the default style\n",
       "- Estimators will overwrite some part of the style using the `sk-estimator` class\n",
       "*/\n",
       "\n",
       "/* Pipeline and ColumnTransformer style (default) */\n",
       "\n",
       "#sk-container-id-1 div.sk-toggleable {\n",
       "  /* Default theme specific background. It is overwritten whether we have a\n",
       "  specific estimator or a Pipeline/ColumnTransformer */\n",
       "  background-color: var(--sklearn-color-background);\n",
       "}\n",
       "\n",
       "/* Toggleable label */\n",
       "#sk-container-id-1 label.sk-toggleable__label {\n",
       "  cursor: pointer;\n",
       "  display: block;\n",
       "  width: 100%;\n",
       "  margin-bottom: 0;\n",
       "  padding: 0.5em;\n",
       "  box-sizing: border-box;\n",
       "  text-align: center;\n",
       "}\n",
       "\n",
       "#sk-container-id-1 label.sk-toggleable__label-arrow:before {\n",
       "  /* Arrow on the left of the label */\n",
       "  content: \"▸\";\n",
       "  float: left;\n",
       "  margin-right: 0.25em;\n",
       "  color: var(--sklearn-color-icon);\n",
       "}\n",
       "\n",
       "#sk-container-id-1 label.sk-toggleable__label-arrow:hover:before {\n",
       "  color: var(--sklearn-color-text);\n",
       "}\n",
       "\n",
       "/* Toggleable content - dropdown */\n",
       "\n",
       "#sk-container-id-1 div.sk-toggleable__content {\n",
       "  max-height: 0;\n",
       "  max-width: 0;\n",
       "  overflow: hidden;\n",
       "  text-align: left;\n",
       "  /* unfitted */\n",
       "  background-color: var(--sklearn-color-unfitted-level-0);\n",
       "}\n",
       "\n",
       "#sk-container-id-1 div.sk-toggleable__content.fitted {\n",
       "  /* fitted */\n",
       "  background-color: var(--sklearn-color-fitted-level-0);\n",
       "}\n",
       "\n",
       "#sk-container-id-1 div.sk-toggleable__content pre {\n",
       "  margin: 0.2em;\n",
       "  border-radius: 0.25em;\n",
       "  color: var(--sklearn-color-text);\n",
       "  /* unfitted */\n",
       "  background-color: var(--sklearn-color-unfitted-level-0);\n",
       "}\n",
       "\n",
       "#sk-container-id-1 div.sk-toggleable__content.fitted pre {\n",
       "  /* unfitted */\n",
       "  background-color: var(--sklearn-color-fitted-level-0);\n",
       "}\n",
       "\n",
       "#sk-container-id-1 input.sk-toggleable__control:checked~div.sk-toggleable__content {\n",
       "  /* Expand drop-down */\n",
       "  max-height: 200px;\n",
       "  max-width: 100%;\n",
       "  overflow: auto;\n",
       "}\n",
       "\n",
       "#sk-container-id-1 input.sk-toggleable__control:checked~label.sk-toggleable__label-arrow:before {\n",
       "  content: \"▾\";\n",
       "}\n",
       "\n",
       "/* Pipeline/ColumnTransformer-specific style */\n",
       "\n",
       "#sk-container-id-1 div.sk-label input.sk-toggleable__control:checked~label.sk-toggleable__label {\n",
       "  color: var(--sklearn-color-text);\n",
       "  background-color: var(--sklearn-color-unfitted-level-2);\n",
       "}\n",
       "\n",
       "#sk-container-id-1 div.sk-label.fitted input.sk-toggleable__control:checked~label.sk-toggleable__label {\n",
       "  background-color: var(--sklearn-color-fitted-level-2);\n",
       "}\n",
       "\n",
       "/* Estimator-specific style */\n",
       "\n",
       "/* Colorize estimator box */\n",
       "#sk-container-id-1 div.sk-estimator input.sk-toggleable__control:checked~label.sk-toggleable__label {\n",
       "  /* unfitted */\n",
       "  background-color: var(--sklearn-color-unfitted-level-2);\n",
       "}\n",
       "\n",
       "#sk-container-id-1 div.sk-estimator.fitted input.sk-toggleable__control:checked~label.sk-toggleable__label {\n",
       "  /* fitted */\n",
       "  background-color: var(--sklearn-color-fitted-level-2);\n",
       "}\n",
       "\n",
       "#sk-container-id-1 div.sk-label label.sk-toggleable__label,\n",
       "#sk-container-id-1 div.sk-label label {\n",
       "  /* The background is the default theme color */\n",
       "  color: var(--sklearn-color-text-on-default-background);\n",
       "}\n",
       "\n",
       "/* On hover, darken the color of the background */\n",
       "#sk-container-id-1 div.sk-label:hover label.sk-toggleable__label {\n",
       "  color: var(--sklearn-color-text);\n",
       "  background-color: var(--sklearn-color-unfitted-level-2);\n",
       "}\n",
       "\n",
       "/* Label box, darken color on hover, fitted */\n",
       "#sk-container-id-1 div.sk-label.fitted:hover label.sk-toggleable__label.fitted {\n",
       "  color: var(--sklearn-color-text);\n",
       "  background-color: var(--sklearn-color-fitted-level-2);\n",
       "}\n",
       "\n",
       "/* Estimator label */\n",
       "\n",
       "#sk-container-id-1 div.sk-label label {\n",
       "  font-family: monospace;\n",
       "  font-weight: bold;\n",
       "  display: inline-block;\n",
       "  line-height: 1.2em;\n",
       "}\n",
       "\n",
       "#sk-container-id-1 div.sk-label-container {\n",
       "  text-align: center;\n",
       "}\n",
       "\n",
       "/* Estimator-specific */\n",
       "#sk-container-id-1 div.sk-estimator {\n",
       "  font-family: monospace;\n",
       "  border: 1px dotted var(--sklearn-color-border-box);\n",
       "  border-radius: 0.25em;\n",
       "  box-sizing: border-box;\n",
       "  margin-bottom: 0.5em;\n",
       "  /* unfitted */\n",
       "  background-color: var(--sklearn-color-unfitted-level-0);\n",
       "}\n",
       "\n",
       "#sk-container-id-1 div.sk-estimator.fitted {\n",
       "  /* fitted */\n",
       "  background-color: var(--sklearn-color-fitted-level-0);\n",
       "}\n",
       "\n",
       "/* on hover */\n",
       "#sk-container-id-1 div.sk-estimator:hover {\n",
       "  /* unfitted */\n",
       "  background-color: var(--sklearn-color-unfitted-level-2);\n",
       "}\n",
       "\n",
       "#sk-container-id-1 div.sk-estimator.fitted:hover {\n",
       "  /* fitted */\n",
       "  background-color: var(--sklearn-color-fitted-level-2);\n",
       "}\n",
       "\n",
       "/* Specification for estimator info (e.g. \"i\" and \"?\") */\n",
       "\n",
       "/* Common style for \"i\" and \"?\" */\n",
       "\n",
       ".sk-estimator-doc-link,\n",
       "a:link.sk-estimator-doc-link,\n",
       "a:visited.sk-estimator-doc-link {\n",
       "  float: right;\n",
       "  font-size: smaller;\n",
       "  line-height: 1em;\n",
       "  font-family: monospace;\n",
       "  background-color: var(--sklearn-color-background);\n",
       "  border-radius: 1em;\n",
       "  height: 1em;\n",
       "  width: 1em;\n",
       "  text-decoration: none !important;\n",
       "  margin-left: 1ex;\n",
       "  /* unfitted */\n",
       "  border: var(--sklearn-color-unfitted-level-1) 1pt solid;\n",
       "  color: var(--sklearn-color-unfitted-level-1);\n",
       "}\n",
       "\n",
       ".sk-estimator-doc-link.fitted,\n",
       "a:link.sk-estimator-doc-link.fitted,\n",
       "a:visited.sk-estimator-doc-link.fitted {\n",
       "  /* fitted */\n",
       "  border: var(--sklearn-color-fitted-level-1) 1pt solid;\n",
       "  color: var(--sklearn-color-fitted-level-1);\n",
       "}\n",
       "\n",
       "/* On hover */\n",
       "div.sk-estimator:hover .sk-estimator-doc-link:hover,\n",
       ".sk-estimator-doc-link:hover,\n",
       "div.sk-label-container:hover .sk-estimator-doc-link:hover,\n",
       ".sk-estimator-doc-link:hover {\n",
       "  /* unfitted */\n",
       "  background-color: var(--sklearn-color-unfitted-level-3);\n",
       "  color: var(--sklearn-color-background);\n",
       "  text-decoration: none;\n",
       "}\n",
       "\n",
       "div.sk-estimator.fitted:hover .sk-estimator-doc-link.fitted:hover,\n",
       ".sk-estimator-doc-link.fitted:hover,\n",
       "div.sk-label-container:hover .sk-estimator-doc-link.fitted:hover,\n",
       ".sk-estimator-doc-link.fitted:hover {\n",
       "  /* fitted */\n",
       "  background-color: var(--sklearn-color-fitted-level-3);\n",
       "  color: var(--sklearn-color-background);\n",
       "  text-decoration: none;\n",
       "}\n",
       "\n",
       "/* Span, style for the box shown on hovering the info icon */\n",
       ".sk-estimator-doc-link span {\n",
       "  display: none;\n",
       "  z-index: 9999;\n",
       "  position: relative;\n",
       "  font-weight: normal;\n",
       "  right: .2ex;\n",
       "  padding: .5ex;\n",
       "  margin: .5ex;\n",
       "  width: min-content;\n",
       "  min-width: 20ex;\n",
       "  max-width: 50ex;\n",
       "  color: var(--sklearn-color-text);\n",
       "  box-shadow: 2pt 2pt 4pt #999;\n",
       "  /* unfitted */\n",
       "  background: var(--sklearn-color-unfitted-level-0);\n",
       "  border: .5pt solid var(--sklearn-color-unfitted-level-3);\n",
       "}\n",
       "\n",
       ".sk-estimator-doc-link.fitted span {\n",
       "  /* fitted */\n",
       "  background: var(--sklearn-color-fitted-level-0);\n",
       "  border: var(--sklearn-color-fitted-level-3);\n",
       "}\n",
       "\n",
       ".sk-estimator-doc-link:hover span {\n",
       "  display: block;\n",
       "}\n",
       "\n",
       "/* \"?\"-specific style due to the `<a>` HTML tag */\n",
       "\n",
       "#sk-container-id-1 a.estimator_doc_link {\n",
       "  float: right;\n",
       "  font-size: 1rem;\n",
       "  line-height: 1em;\n",
       "  font-family: monospace;\n",
       "  background-color: var(--sklearn-color-background);\n",
       "  border-radius: 1rem;\n",
       "  height: 1rem;\n",
       "  width: 1rem;\n",
       "  text-decoration: none;\n",
       "  /* unfitted */\n",
       "  color: var(--sklearn-color-unfitted-level-1);\n",
       "  border: var(--sklearn-color-unfitted-level-1) 1pt solid;\n",
       "}\n",
       "\n",
       "#sk-container-id-1 a.estimator_doc_link.fitted {\n",
       "  /* fitted */\n",
       "  border: var(--sklearn-color-fitted-level-1) 1pt solid;\n",
       "  color: var(--sklearn-color-fitted-level-1);\n",
       "}\n",
       "\n",
       "/* On hover */\n",
       "#sk-container-id-1 a.estimator_doc_link:hover {\n",
       "  /* unfitted */\n",
       "  background-color: var(--sklearn-color-unfitted-level-3);\n",
       "  color: var(--sklearn-color-background);\n",
       "  text-decoration: none;\n",
       "}\n",
       "\n",
       "#sk-container-id-1 a.estimator_doc_link.fitted:hover {\n",
       "  /* fitted */\n",
       "  background-color: var(--sklearn-color-fitted-level-3);\n",
       "}\n",
       "</style><div id=\"sk-container-id-1\" class=\"sk-top-container\"><div class=\"sk-text-repr-fallback\"><pre>Pipeline(steps=[(&#x27;prep&#x27;,\n",
       "                 ColumnTransformer(transformers=[(&#x27;num&#x27;,\n",
       "                                                  Pipeline(steps=[(&#x27;scaler&#x27;,\n",
       "                                                                   StandardScaler())]),\n",
       "                                                  [&#x27;age&#x27;, &#x27;balance&#x27;, &#x27;campaign&#x27;,\n",
       "                                                   &#x27;pdays&#x27;]),\n",
       "                                                 (&#x27;cat&#x27;,\n",
       "                                                  OneHotEncoder(drop=&#x27;first&#x27;,\n",
       "                                                                sparse_output=False),\n",
       "                                                  [&#x27;job&#x27;, &#x27;contact&#x27;, &#x27;month&#x27;,\n",
       "                                                   &#x27;poutcome&#x27;, &#x27;age_group&#x27;,\n",
       "                                                   &#x27;housing&#x27;, &#x27;loan&#x27;,\n",
       "                                                   &#x27;had_contact_before&#x27;])])),\n",
       "                (&#x27;clf&#x27;,\n",
       "                 RandomForestClassifier(n_estimators=200, random_state=42))])</pre><b>In a Jupyter environment, please rerun this cell to show the HTML representation or trust the notebook. <br />On GitHub, the HTML representation is unable to render, please try loading this page with nbviewer.org.</b></div><div class=\"sk-container\" hidden><div class=\"sk-item sk-dashed-wrapped\"><div class=\"sk-label-container\"><div class=\"sk-label fitted sk-toggleable\"><input class=\"sk-toggleable__control sk-hidden--visually\" id=\"sk-estimator-id-1\" type=\"checkbox\" ><label for=\"sk-estimator-id-1\" class=\"sk-toggleable__label fitted sk-toggleable__label-arrow fitted\">&nbsp;Pipeline<span class=\"sk-estimator-doc-link fitted\">i<span>Fitted</span></span></label><div class=\"sk-toggleable__content fitted\"><pre>Pipeline(steps=[(&#x27;prep&#x27;,\n",
       "                 ColumnTransformer(transformers=[(&#x27;num&#x27;,\n",
       "                                                  Pipeline(steps=[(&#x27;scaler&#x27;,\n",
       "                                                                   StandardScaler())]),\n",
       "                                                  [&#x27;age&#x27;, &#x27;balance&#x27;, &#x27;campaign&#x27;,\n",
       "                                                   &#x27;pdays&#x27;]),\n",
       "                                                 (&#x27;cat&#x27;,\n",
       "                                                  OneHotEncoder(drop=&#x27;first&#x27;,\n",
       "                                                                sparse_output=False),\n",
       "                                                  [&#x27;job&#x27;, &#x27;contact&#x27;, &#x27;month&#x27;,\n",
       "                                                   &#x27;poutcome&#x27;, &#x27;age_group&#x27;,\n",
       "                                                   &#x27;housing&#x27;, &#x27;loan&#x27;,\n",
       "                                                   &#x27;had_contact_before&#x27;])])),\n",
       "                (&#x27;clf&#x27;,\n",
       "                 RandomForestClassifier(n_estimators=200, random_state=42))])</pre></div> </div></div><div class=\"sk-serial\"><div class=\"sk-item sk-dashed-wrapped\"><div class=\"sk-label-container\"><div class=\"sk-label fitted sk-toggleable\"><input class=\"sk-toggleable__control sk-hidden--visually\" id=\"sk-estimator-id-2\" type=\"checkbox\" ><label for=\"sk-estimator-id-2\" class=\"sk-toggleable__label fitted sk-toggleable__label-arrow fitted\">&nbsp;prep: ColumnTransformer<a class=\"sk-estimator-doc-link fitted\" rel=\"noreferrer\" target=\"_blank\" href=\"https://scikit-learn.org/1.4/modules/generated/sklearn.compose.ColumnTransformer.html\">?<span>Documentation for prep: ColumnTransformer</span></a></label><div class=\"sk-toggleable__content fitted\"><pre>ColumnTransformer(transformers=[(&#x27;num&#x27;,\n",
       "                                 Pipeline(steps=[(&#x27;scaler&#x27;, StandardScaler())]),\n",
       "                                 [&#x27;age&#x27;, &#x27;balance&#x27;, &#x27;campaign&#x27;, &#x27;pdays&#x27;]),\n",
       "                                (&#x27;cat&#x27;,\n",
       "                                 OneHotEncoder(drop=&#x27;first&#x27;,\n",
       "                                               sparse_output=False),\n",
       "                                 [&#x27;job&#x27;, &#x27;contact&#x27;, &#x27;month&#x27;, &#x27;poutcome&#x27;,\n",
       "                                  &#x27;age_group&#x27;, &#x27;housing&#x27;, &#x27;loan&#x27;,\n",
       "                                  &#x27;had_contact_before&#x27;])])</pre></div> </div></div><div class=\"sk-parallel\"><div class=\"sk-parallel-item\"><div class=\"sk-item\"><div class=\"sk-label-container\"><div class=\"sk-label fitted sk-toggleable\"><input class=\"sk-toggleable__control sk-hidden--visually\" id=\"sk-estimator-id-3\" type=\"checkbox\" ><label for=\"sk-estimator-id-3\" class=\"sk-toggleable__label fitted sk-toggleable__label-arrow fitted\">num</label><div class=\"sk-toggleable__content fitted\"><pre>[&#x27;age&#x27;, &#x27;balance&#x27;, &#x27;campaign&#x27;, &#x27;pdays&#x27;]</pre></div> </div></div><div class=\"sk-serial\"><div class=\"sk-item\"><div class=\"sk-serial\"><div class=\"sk-item\"><div class=\"sk-estimator fitted sk-toggleable\"><input class=\"sk-toggleable__control sk-hidden--visually\" id=\"sk-estimator-id-4\" type=\"checkbox\" ><label for=\"sk-estimator-id-4\" class=\"sk-toggleable__label fitted sk-toggleable__label-arrow fitted\">&nbsp;StandardScaler<a class=\"sk-estimator-doc-link fitted\" rel=\"noreferrer\" target=\"_blank\" href=\"https://scikit-learn.org/1.4/modules/generated/sklearn.preprocessing.StandardScaler.html\">?<span>Documentation for StandardScaler</span></a></label><div class=\"sk-toggleable__content fitted\"><pre>StandardScaler()</pre></div> </div></div></div></div></div></div></div><div class=\"sk-parallel-item\"><div class=\"sk-item\"><div class=\"sk-label-container\"><div class=\"sk-label fitted sk-toggleable\"><input class=\"sk-toggleable__control sk-hidden--visually\" id=\"sk-estimator-id-5\" type=\"checkbox\" ><label for=\"sk-estimator-id-5\" class=\"sk-toggleable__label fitted sk-toggleable__label-arrow fitted\">cat</label><div class=\"sk-toggleable__content fitted\"><pre>[&#x27;job&#x27;, &#x27;contact&#x27;, &#x27;month&#x27;, &#x27;poutcome&#x27;, &#x27;age_group&#x27;, &#x27;housing&#x27;, &#x27;loan&#x27;, &#x27;had_contact_before&#x27;]</pre></div> </div></div><div class=\"sk-serial\"><div class=\"sk-item\"><div class=\"sk-estimator fitted sk-toggleable\"><input class=\"sk-toggleable__control sk-hidden--visually\" id=\"sk-estimator-id-6\" type=\"checkbox\" ><label for=\"sk-estimator-id-6\" class=\"sk-toggleable__label fitted sk-toggleable__label-arrow fitted\">&nbsp;OneHotEncoder<a class=\"sk-estimator-doc-link fitted\" rel=\"noreferrer\" target=\"_blank\" href=\"https://scikit-learn.org/1.4/modules/generated/sklearn.preprocessing.OneHotEncoder.html\">?<span>Documentation for OneHotEncoder</span></a></label><div class=\"sk-toggleable__content fitted\"><pre>OneHotEncoder(drop=&#x27;first&#x27;, sparse_output=False)</pre></div> </div></div></div></div></div></div></div><div class=\"sk-item\"><div class=\"sk-estimator fitted sk-toggleable\"><input class=\"sk-toggleable__control sk-hidden--visually\" id=\"sk-estimator-id-7\" type=\"checkbox\" ><label for=\"sk-estimator-id-7\" class=\"sk-toggleable__label fitted sk-toggleable__label-arrow fitted\">&nbsp;RandomForestClassifier<a class=\"sk-estimator-doc-link fitted\" rel=\"noreferrer\" target=\"_blank\" href=\"https://scikit-learn.org/1.4/modules/generated/sklearn.ensemble.RandomForestClassifier.html\">?<span>Documentation for RandomForestClassifier</span></a></label><div class=\"sk-toggleable__content fitted\"><pre>RandomForestClassifier(n_estimators=200, random_state=42)</pre></div> </div></div></div></div></div></div>"
      ],
      "text/plain": [
       "Pipeline(steps=[('prep',\n",
       "                 ColumnTransformer(transformers=[('num',\n",
       "                                                  Pipeline(steps=[('scaler',\n",
       "                                                                   StandardScaler())]),\n",
       "                                                  ['age', 'balance', 'campaign',\n",
       "                                                   'pdays']),\n",
       "                                                 ('cat',\n",
       "                                                  OneHotEncoder(drop='first',\n",
       "                                                                sparse_output=False),\n",
       "                                                  ['job', 'contact', 'month',\n",
       "                                                   'poutcome', 'age_group',\n",
       "                                                   'housing', 'loan',\n",
       "                                                   'had_contact_before'])])),\n",
       "                ('clf',\n",
       "                 RandomForestClassifier(n_estimators=200, random_state=42))])"
      ]
     },
     "execution_count": 250,
     "metadata": {},
     "output_type": "execute_result"
    }
   ],
   "source": [
    "final_pipeline = Pipeline([\n",
    "    ('prep', preprocessor),\n",
    "    ('clf', RandomForestClassifier(\n",
    "         n_estimators=200,\n",
    "         max_depth=None,\n",
    "         min_samples_leaf=1,\n",
    "         random_state=42\n",
    "    ))\n",
    "])\n",
    "# Latih pada seluruh dataset (X, y)\n",
    "final_pipeline.fit(X, y)"
   ]
  },
  {
   "cell_type": "code",
   "execution_count": 253,
   "id": "abe9f3bb",
   "metadata": {},
   "outputs": [
    {
     "name": "stdout",
     "output_type": "stream",
     "text": [
      "✅ Model berhasil disimpan sebagai 'bank_marketing_campaign_model.pkl'\n"
     ]
    }
   ],
   "source": [
    "# Simpan model ke file\n",
    "import pickle\n",
    "with open('bank_marketing_campaign_model.pkl', 'wb') as f:\n",
    "    pickle.dump(final_pipeline, f)\n",
    "\n",
    "print(\"✅ Model berhasil disimpan sebagai 'bank_marketing_campaign_model.pkl'\")"
   ]
  }
 ],
 "metadata": {
  "kernelspec": {
   "display_name": "base",
   "language": "python",
   "name": "python3"
  },
  "language_info": {
   "codemirror_mode": {
    "name": "ipython",
    "version": 3
   },
   "file_extension": ".py",
   "mimetype": "text/x-python",
   "name": "python",
   "nbconvert_exporter": "python",
   "pygments_lexer": "ipython3",
   "version": "3.12.7"
  }
 },
 "nbformat": 4,
 "nbformat_minor": 5
}
